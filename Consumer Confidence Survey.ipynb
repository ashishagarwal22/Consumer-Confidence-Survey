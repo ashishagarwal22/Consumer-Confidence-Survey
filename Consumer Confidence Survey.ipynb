{
 "cells": [
  {
   "cell_type": "code",
   "execution_count": 3,
   "id": "2d90fdcc",
   "metadata": {},
   "outputs": [],
   "source": [
    "import numpy as np\n",
    "import pandas as pd\n",
    "import tensorflow as tf\n",
    "\n",
    "from sklearn import preprocessing"
   ]
  },
  {
   "cell_type": "markdown",
   "id": "eaf345d5",
   "metadata": {},
   "source": [
    "# Data Input"
   ]
  },
  {
   "cell_type": "code",
   "execution_count": 4,
   "id": "29e0216e",
   "metadata": {},
   "outputs": [],
   "source": [
    "#Reading The excel dataset\n",
    "raw_data = pd.read_excel(\"CCS___Consumer_Confidence_Survey___Unit_Level_Data.xlsx\", header = 0,index_col = 'Serial No.')"
   ]
  },
  {
   "cell_type": "markdown",
   "id": "519bb029",
   "metadata": {},
   "source": [
    "# Preproceesing The dataset"
   ]
  },
  {
   "cell_type": "code",
   "execution_count": 5,
   "id": "18620e40",
   "metadata": {},
   "outputs": [
    {
     "data": {
      "text/plain": [
       "Index(['Round No.', 'Period', 'City', 'Age', 'Gender', 'Annual Income',\n",
       "       'Assembly Constituency Name', 'Educational Qualification',\n",
       "       'No. of Family Members', 'No. of Earning members in the family',\n",
       "       'Occupation of Respondent',\n",
       "       'Perception on General Economic condition - compared to one year ago',\n",
       "       'Outlook on General Economic condition - one year ahead',\n",
       "       'Perception on Household income - compared to one year ago',\n",
       "       'Outlook on Household income - one year ahead',\n",
       "       'Perception on Household spending - compared to one year ago',\n",
       "       'Outlook on Household spending - one year ahead',\n",
       "       'Perception on essential spending - compared to one year ago',\n",
       "       'Outlook on essential spending - one year ahead',\n",
       "       'Perception on non-essential spending - compared to one year ago',\n",
       "       'Outlook on non-essential spending - one year ahead',\n",
       "       'Perception on Employment scenario - compared to one year ago',\n",
       "       'Outlook on Employment scenario - one year ahead',\n",
       "       'Perception on General prices - compared to one year ago',\n",
       "       'Outlook on General prices - one year ahead',\n",
       "       'Perception on Inflation - compared to one year ago',\n",
       "       'Outlook on Inflation - one year ahead'],\n",
       "      dtype='object')"
      ]
     },
     "execution_count": 5,
     "metadata": {},
     "output_type": "execute_result"
    }
   ],
   "source": [
    "raw_data.columns"
   ]
  },
  {
   "cell_type": "code",
   "execution_count": 6,
   "id": "b2a51c0d",
   "metadata": {},
   "outputs": [
    {
     "data": {
      "text/html": [
       "<div>\n",
       "<style scoped>\n",
       "    .dataframe tbody tr th:only-of-type {\n",
       "        vertical-align: middle;\n",
       "    }\n",
       "\n",
       "    .dataframe tbody tr th {\n",
       "        vertical-align: top;\n",
       "    }\n",
       "\n",
       "    .dataframe thead th {\n",
       "        text-align: right;\n",
       "    }\n",
       "</style>\n",
       "<table border=\"1\" class=\"dataframe\">\n",
       "  <thead>\n",
       "    <tr style=\"text-align: right;\">\n",
       "      <th></th>\n",
       "      <th>Round No.</th>\n",
       "      <th>Period</th>\n",
       "      <th>City</th>\n",
       "      <th>Age</th>\n",
       "      <th>Gender</th>\n",
       "      <th>Annual Income</th>\n",
       "      <th>Assembly Constituency Name</th>\n",
       "      <th>Educational Qualification</th>\n",
       "      <th>No. of Family Members</th>\n",
       "      <th>No. of Earning members in the family</th>\n",
       "      <th>...</th>\n",
       "      <th>Perception on essential spending - compared to one year ago</th>\n",
       "      <th>Outlook on essential spending - one year ahead</th>\n",
       "      <th>Perception on non-essential spending - compared to one year ago</th>\n",
       "      <th>Outlook on non-essential spending - one year ahead</th>\n",
       "      <th>Perception on Employment scenario - compared to one year ago</th>\n",
       "      <th>Outlook on Employment scenario - one year ahead</th>\n",
       "      <th>Perception on General prices - compared to one year ago</th>\n",
       "      <th>Outlook on General prices - one year ahead</th>\n",
       "      <th>Perception on Inflation - compared to one year ago</th>\n",
       "      <th>Outlook on Inflation - one year ahead</th>\n",
       "    </tr>\n",
       "    <tr>\n",
       "      <th>Serial No.</th>\n",
       "      <th></th>\n",
       "      <th></th>\n",
       "      <th></th>\n",
       "      <th></th>\n",
       "      <th></th>\n",
       "      <th></th>\n",
       "      <th></th>\n",
       "      <th></th>\n",
       "      <th></th>\n",
       "      <th></th>\n",
       "      <th></th>\n",
       "      <th></th>\n",
       "      <th></th>\n",
       "      <th></th>\n",
       "      <th></th>\n",
       "      <th></th>\n",
       "      <th></th>\n",
       "      <th></th>\n",
       "      <th></th>\n",
       "      <th></th>\n",
       "      <th></th>\n",
       "    </tr>\n",
       "  </thead>\n",
       "  <tbody>\n",
       "    <tr>\n",
       "      <th>1</th>\n",
       "      <td>48</td>\n",
       "      <td>2019-05-31</td>\n",
       "      <td>Ahmedabad</td>\n",
       "      <td>22-29 year</td>\n",
       "      <td>Female</td>\n",
       "      <td>Rs. 1 lakh or less</td>\n",
       "      <td>Asarwa</td>\n",
       "      <td>10th Std-Below 12th Std</td>\n",
       "      <td>5 and more</td>\n",
       "      <td>1.0</td>\n",
       "      <td>...</td>\n",
       "      <td>Increased</td>\n",
       "      <td>Remain the same</td>\n",
       "      <td>Increased</td>\n",
       "      <td>Remain the same</td>\n",
       "      <td>Remained the same</td>\n",
       "      <td>Remain the same</td>\n",
       "      <td>Increased</td>\n",
       "      <td>Will increase</td>\n",
       "      <td>Increased</td>\n",
       "      <td>Will increase</td>\n",
       "    </tr>\n",
       "    <tr>\n",
       "      <th>2</th>\n",
       "      <td>48</td>\n",
       "      <td>2019-05-31</td>\n",
       "      <td>Ahmedabad</td>\n",
       "      <td>22-29 year</td>\n",
       "      <td>Female</td>\n",
       "      <td>Rs. 1 lakh or less</td>\n",
       "      <td>Asarwa</td>\n",
       "      <td>12th Std</td>\n",
       "      <td>5 and more</td>\n",
       "      <td>4.0</td>\n",
       "      <td>...</td>\n",
       "      <td>Increased</td>\n",
       "      <td>Will increase</td>\n",
       "      <td>Remained the same</td>\n",
       "      <td>Remain the same</td>\n",
       "      <td>Improved</td>\n",
       "      <td>Will improve</td>\n",
       "      <td>Increased</td>\n",
       "      <td>Will increase</td>\n",
       "      <td>Increased</td>\n",
       "      <td>Will increase</td>\n",
       "    </tr>\n",
       "    <tr>\n",
       "      <th>3</th>\n",
       "      <td>48</td>\n",
       "      <td>2019-05-31</td>\n",
       "      <td>Ahmedabad</td>\n",
       "      <td>22-29 year</td>\n",
       "      <td>Female</td>\n",
       "      <td>Rs. 1 lakh or less</td>\n",
       "      <td>Asarwa</td>\n",
       "      <td>5th Std-Below 10th Std</td>\n",
       "      <td>5 and more</td>\n",
       "      <td>2.0</td>\n",
       "      <td>...</td>\n",
       "      <td>Remained the same</td>\n",
       "      <td>Will increase</td>\n",
       "      <td>Decreased</td>\n",
       "      <td>Remain the same</td>\n",
       "      <td>Improved</td>\n",
       "      <td>Will improve</td>\n",
       "      <td>Increased</td>\n",
       "      <td>Will decrease</td>\n",
       "      <td>Increased</td>\n",
       "      <td>NaN</td>\n",
       "    </tr>\n",
       "    <tr>\n",
       "      <th>4</th>\n",
       "      <td>48</td>\n",
       "      <td>2019-05-31</td>\n",
       "      <td>Ahmedabad</td>\n",
       "      <td>22-29 year</td>\n",
       "      <td>Female</td>\n",
       "      <td>Rs. 1 lakh or less</td>\n",
       "      <td>Bapunagar</td>\n",
       "      <td>5th Std-Below 10th Std</td>\n",
       "      <td>5 and more</td>\n",
       "      <td>1.0</td>\n",
       "      <td>...</td>\n",
       "      <td>Increased</td>\n",
       "      <td>Will increase</td>\n",
       "      <td>Remained the same</td>\n",
       "      <td>Remain the same</td>\n",
       "      <td>Remained the same</td>\n",
       "      <td>Will improve</td>\n",
       "      <td>Increased</td>\n",
       "      <td>Remain the same</td>\n",
       "      <td>Increased</td>\n",
       "      <td>NaN</td>\n",
       "    </tr>\n",
       "    <tr>\n",
       "      <th>5</th>\n",
       "      <td>48</td>\n",
       "      <td>2019-05-31</td>\n",
       "      <td>Ahmedabad</td>\n",
       "      <td>22-29 year</td>\n",
       "      <td>Female</td>\n",
       "      <td>Rs. 1 lakh or less</td>\n",
       "      <td>Bapunagar</td>\n",
       "      <td>5th Std-Below 10th Std</td>\n",
       "      <td>5 and more</td>\n",
       "      <td>2.0</td>\n",
       "      <td>...</td>\n",
       "      <td>Increased</td>\n",
       "      <td>Remain the same</td>\n",
       "      <td>Remained the same</td>\n",
       "      <td>Remain the same</td>\n",
       "      <td>Remained the same</td>\n",
       "      <td>Will improve</td>\n",
       "      <td>Increased</td>\n",
       "      <td>Will increase</td>\n",
       "      <td>Increased</td>\n",
       "      <td>Will increase</td>\n",
       "    </tr>\n",
       "  </tbody>\n",
       "</table>\n",
       "<p>5 rows × 27 columns</p>\n",
       "</div>"
      ],
      "text/plain": [
       "            Round No.     Period       City         Age  Gender  \\\n",
       "Serial No.                                                        \n",
       "1                  48 2019-05-31  Ahmedabad  22-29 year  Female   \n",
       "2                  48 2019-05-31  Ahmedabad  22-29 year  Female   \n",
       "3                  48 2019-05-31  Ahmedabad  22-29 year  Female   \n",
       "4                  48 2019-05-31  Ahmedabad  22-29 year  Female   \n",
       "5                  48 2019-05-31  Ahmedabad  22-29 year  Female   \n",
       "\n",
       "                 Annual Income Assembly Constituency Name  \\\n",
       "Serial No.                                                  \n",
       "1           Rs. 1 lakh or less                     Asarwa   \n",
       "2           Rs. 1 lakh or less                     Asarwa   \n",
       "3           Rs. 1 lakh or less                     Asarwa   \n",
       "4           Rs. 1 lakh or less                  Bapunagar   \n",
       "5           Rs. 1 lakh or less                  Bapunagar   \n",
       "\n",
       "           Educational Qualification No. of Family Members  \\\n",
       "Serial No.                                                   \n",
       "1            10th Std-Below 12th Std            5 and more   \n",
       "2                           12th Std            5 and more   \n",
       "3             5th Std-Below 10th Std            5 and more   \n",
       "4             5th Std-Below 10th Std            5 and more   \n",
       "5             5th Std-Below 10th Std            5 and more   \n",
       "\n",
       "            No. of Earning members in the family  ...  \\\n",
       "Serial No.                                        ...   \n",
       "1                                            1.0  ...   \n",
       "2                                            4.0  ...   \n",
       "3                                            2.0  ...   \n",
       "4                                            1.0  ...   \n",
       "5                                            2.0  ...   \n",
       "\n",
       "           Perception on essential spending - compared to one year ago  \\\n",
       "Serial No.                                                               \n",
       "1                                                   Increased            \n",
       "2                                                   Increased            \n",
       "3                                           Remained the same            \n",
       "4                                                   Increased            \n",
       "5                                                   Increased            \n",
       "\n",
       "           Outlook on essential spending - one year ahead  \\\n",
       "Serial No.                                                  \n",
       "1                                         Remain the same   \n",
       "2                                           Will increase   \n",
       "3                                           Will increase   \n",
       "4                                           Will increase   \n",
       "5                                         Remain the same   \n",
       "\n",
       "           Perception on non-essential spending - compared to one year ago  \\\n",
       "Serial No.                                                                   \n",
       "1                                                   Increased                \n",
       "2                                           Remained the same                \n",
       "3                                                   Decreased                \n",
       "4                                           Remained the same                \n",
       "5                                           Remained the same                \n",
       "\n",
       "           Outlook on non-essential spending - one year ahead  \\\n",
       "Serial No.                                                      \n",
       "1                                             Remain the same   \n",
       "2                                             Remain the same   \n",
       "3                                             Remain the same   \n",
       "4                                             Remain the same   \n",
       "5                                             Remain the same   \n",
       "\n",
       "           Perception on Employment scenario - compared to one year ago  \\\n",
       "Serial No.                                                                \n",
       "1                                           Remained the same             \n",
       "2                                                    Improved             \n",
       "3                                                    Improved             \n",
       "4                                           Remained the same             \n",
       "5                                           Remained the same             \n",
       "\n",
       "           Outlook on Employment scenario - one year ahead  \\\n",
       "Serial No.                                                   \n",
       "1                                          Remain the same   \n",
       "2                                             Will improve   \n",
       "3                                             Will improve   \n",
       "4                                             Will improve   \n",
       "5                                             Will improve   \n",
       "\n",
       "           Perception on General prices - compared to one year ago  \\\n",
       "Serial No.                                                           \n",
       "1                                                   Increased        \n",
       "2                                                   Increased        \n",
       "3                                                   Increased        \n",
       "4                                                   Increased        \n",
       "5                                                   Increased        \n",
       "\n",
       "           Outlook on General prices - one year ahead  \\\n",
       "Serial No.                                              \n",
       "1                                       Will increase   \n",
       "2                                       Will increase   \n",
       "3                                       Will decrease   \n",
       "4                                     Remain the same   \n",
       "5                                       Will increase   \n",
       "\n",
       "           Perception on Inflation - compared to one year ago  \\\n",
       "Serial No.                                                      \n",
       "1                                                   Increased   \n",
       "2                                                   Increased   \n",
       "3                                                   Increased   \n",
       "4                                                   Increased   \n",
       "5                                                   Increased   \n",
       "\n",
       "           Outlook on Inflation - one year ahead  \n",
       "Serial No.                                        \n",
       "1                                  Will increase  \n",
       "2                                  Will increase  \n",
       "3                                            NaN  \n",
       "4                                            NaN  \n",
       "5                                  Will increase  \n",
       "\n",
       "[5 rows x 27 columns]"
      ]
     },
     "execution_count": 6,
     "metadata": {},
     "output_type": "execute_result"
    }
   ],
   "source": [
    "raw_data.head()"
   ]
  },
  {
   "cell_type": "markdown",
   "id": "d908717e",
   "metadata": {},
   "source": [
    "# Cleaning the Input Dataset"
   ]
  },
  {
   "cell_type": "code",
   "execution_count": 7,
   "id": "d1d312e6",
   "metadata": {},
   "outputs": [
    {
     "data": {
      "text/html": [
       "<div>\n",
       "<style scoped>\n",
       "    .dataframe tbody tr th:only-of-type {\n",
       "        vertical-align: middle;\n",
       "    }\n",
       "\n",
       "    .dataframe tbody tr th {\n",
       "        vertical-align: top;\n",
       "    }\n",
       "\n",
       "    .dataframe thead th {\n",
       "        text-align: right;\n",
       "    }\n",
       "</style>\n",
       "<table border=\"1\" class=\"dataframe\">\n",
       "  <thead>\n",
       "    <tr style=\"text-align: right;\">\n",
       "      <th></th>\n",
       "      <th>Period</th>\n",
       "      <th>Age</th>\n",
       "      <th>Gender</th>\n",
       "      <th>Annual Income</th>\n",
       "      <th>Educational Qualification</th>\n",
       "      <th>No. of Family Members</th>\n",
       "      <th>No. of Earning members in the family</th>\n",
       "      <th>Occupation of Respondent</th>\n",
       "      <th>Perception on General Economic condition - compared to one year ago</th>\n",
       "      <th>Outlook on General Economic condition - one year ahead</th>\n",
       "      <th>...</th>\n",
       "      <th>Perception on essential spending - compared to one year ago</th>\n",
       "      <th>Outlook on essential spending - one year ahead</th>\n",
       "      <th>Perception on non-essential spending - compared to one year ago</th>\n",
       "      <th>Outlook on non-essential spending - one year ahead</th>\n",
       "      <th>Perception on Employment scenario - compared to one year ago</th>\n",
       "      <th>Outlook on Employment scenario - one year ahead</th>\n",
       "      <th>Perception on General prices - compared to one year ago</th>\n",
       "      <th>Outlook on General prices - one year ahead</th>\n",
       "      <th>Perception on Inflation - compared to one year ago</th>\n",
       "      <th>Outlook on Inflation - one year ahead</th>\n",
       "    </tr>\n",
       "    <tr>\n",
       "      <th>Serial No.</th>\n",
       "      <th></th>\n",
       "      <th></th>\n",
       "      <th></th>\n",
       "      <th></th>\n",
       "      <th></th>\n",
       "      <th></th>\n",
       "      <th></th>\n",
       "      <th></th>\n",
       "      <th></th>\n",
       "      <th></th>\n",
       "      <th></th>\n",
       "      <th></th>\n",
       "      <th></th>\n",
       "      <th></th>\n",
       "      <th></th>\n",
       "      <th></th>\n",
       "      <th></th>\n",
       "      <th></th>\n",
       "      <th></th>\n",
       "      <th></th>\n",
       "      <th></th>\n",
       "    </tr>\n",
       "  </thead>\n",
       "  <tbody>\n",
       "    <tr>\n",
       "      <th>1</th>\n",
       "      <td>2019-05-31</td>\n",
       "      <td>22-29 year</td>\n",
       "      <td>Female</td>\n",
       "      <td>Rs. 1 lakh or less</td>\n",
       "      <td>10th Std-Below 12th Std</td>\n",
       "      <td>5 and more</td>\n",
       "      <td>1.0</td>\n",
       "      <td>Unemployed</td>\n",
       "      <td>Remained the same</td>\n",
       "      <td>Remain the same</td>\n",
       "      <td>...</td>\n",
       "      <td>Increased</td>\n",
       "      <td>Remain the same</td>\n",
       "      <td>Increased</td>\n",
       "      <td>Remain the same</td>\n",
       "      <td>Remained the same</td>\n",
       "      <td>Remain the same</td>\n",
       "      <td>Increased</td>\n",
       "      <td>Will increase</td>\n",
       "      <td>Increased</td>\n",
       "      <td>Will increase</td>\n",
       "    </tr>\n",
       "    <tr>\n",
       "      <th>2</th>\n",
       "      <td>2019-05-31</td>\n",
       "      <td>22-29 year</td>\n",
       "      <td>Female</td>\n",
       "      <td>Rs. 1 lakh or less</td>\n",
       "      <td>12th Std</td>\n",
       "      <td>5 and more</td>\n",
       "      <td>4.0</td>\n",
       "      <td>House wife</td>\n",
       "      <td>Improved</td>\n",
       "      <td>Will improve</td>\n",
       "      <td>...</td>\n",
       "      <td>Increased</td>\n",
       "      <td>Will increase</td>\n",
       "      <td>Remained the same</td>\n",
       "      <td>Remain the same</td>\n",
       "      <td>Improved</td>\n",
       "      <td>Will improve</td>\n",
       "      <td>Increased</td>\n",
       "      <td>Will increase</td>\n",
       "      <td>Increased</td>\n",
       "      <td>Will increase</td>\n",
       "    </tr>\n",
       "    <tr>\n",
       "      <th>3</th>\n",
       "      <td>2019-05-31</td>\n",
       "      <td>22-29 year</td>\n",
       "      <td>Female</td>\n",
       "      <td>Rs. 1 lakh or less</td>\n",
       "      <td>5th Std-Below 10th Std</td>\n",
       "      <td>5 and more</td>\n",
       "      <td>2.0</td>\n",
       "      <td>House wife</td>\n",
       "      <td>Remained the same</td>\n",
       "      <td>Will improve</td>\n",
       "      <td>...</td>\n",
       "      <td>Remained the same</td>\n",
       "      <td>Will increase</td>\n",
       "      <td>Decreased</td>\n",
       "      <td>Remain the same</td>\n",
       "      <td>Improved</td>\n",
       "      <td>Will improve</td>\n",
       "      <td>Increased</td>\n",
       "      <td>Will decrease</td>\n",
       "      <td>Increased</td>\n",
       "      <td>NaN</td>\n",
       "    </tr>\n",
       "    <tr>\n",
       "      <th>4</th>\n",
       "      <td>2019-05-31</td>\n",
       "      <td>22-29 year</td>\n",
       "      <td>Female</td>\n",
       "      <td>Rs. 1 lakh or less</td>\n",
       "      <td>5th Std-Below 10th Std</td>\n",
       "      <td>5 and more</td>\n",
       "      <td>1.0</td>\n",
       "      <td>House wife</td>\n",
       "      <td>Remained the same</td>\n",
       "      <td>Will improve</td>\n",
       "      <td>...</td>\n",
       "      <td>Increased</td>\n",
       "      <td>Will increase</td>\n",
       "      <td>Remained the same</td>\n",
       "      <td>Remain the same</td>\n",
       "      <td>Remained the same</td>\n",
       "      <td>Will improve</td>\n",
       "      <td>Increased</td>\n",
       "      <td>Remain the same</td>\n",
       "      <td>Increased</td>\n",
       "      <td>NaN</td>\n",
       "    </tr>\n",
       "    <tr>\n",
       "      <th>5</th>\n",
       "      <td>2019-05-31</td>\n",
       "      <td>22-29 year</td>\n",
       "      <td>Female</td>\n",
       "      <td>Rs. 1 lakh or less</td>\n",
       "      <td>5th Std-Below 10th Std</td>\n",
       "      <td>5 and more</td>\n",
       "      <td>2.0</td>\n",
       "      <td>House wife</td>\n",
       "      <td>Remained the same</td>\n",
       "      <td>Remain the same</td>\n",
       "      <td>...</td>\n",
       "      <td>Increased</td>\n",
       "      <td>Remain the same</td>\n",
       "      <td>Remained the same</td>\n",
       "      <td>Remain the same</td>\n",
       "      <td>Remained the same</td>\n",
       "      <td>Will improve</td>\n",
       "      <td>Increased</td>\n",
       "      <td>Will increase</td>\n",
       "      <td>Increased</td>\n",
       "      <td>Will increase</td>\n",
       "    </tr>\n",
       "  </tbody>\n",
       "</table>\n",
       "<p>5 rows × 24 columns</p>\n",
       "</div>"
      ],
      "text/plain": [
       "               Period         Age  Gender       Annual Income  \\\n",
       "Serial No.                                                      \n",
       "1          2019-05-31  22-29 year  Female  Rs. 1 lakh or less   \n",
       "2          2019-05-31  22-29 year  Female  Rs. 1 lakh or less   \n",
       "3          2019-05-31  22-29 year  Female  Rs. 1 lakh or less   \n",
       "4          2019-05-31  22-29 year  Female  Rs. 1 lakh or less   \n",
       "5          2019-05-31  22-29 year  Female  Rs. 1 lakh or less   \n",
       "\n",
       "           Educational Qualification No. of Family Members  \\\n",
       "Serial No.                                                   \n",
       "1            10th Std-Below 12th Std            5 and more   \n",
       "2                           12th Std            5 and more   \n",
       "3             5th Std-Below 10th Std            5 and more   \n",
       "4             5th Std-Below 10th Std            5 and more   \n",
       "5             5th Std-Below 10th Std            5 and more   \n",
       "\n",
       "            No. of Earning members in the family Occupation of Respondent  \\\n",
       "Serial No.                                                                  \n",
       "1                                            1.0               Unemployed   \n",
       "2                                            4.0               House wife   \n",
       "3                                            2.0               House wife   \n",
       "4                                            1.0               House wife   \n",
       "5                                            2.0               House wife   \n",
       "\n",
       "           Perception on General Economic condition - compared to one year ago  \\\n",
       "Serial No.                                                                       \n",
       "1                                           Remained the same                    \n",
       "2                                                    Improved                    \n",
       "3                                           Remained the same                    \n",
       "4                                           Remained the same                    \n",
       "5                                           Remained the same                    \n",
       "\n",
       "           Outlook on General Economic condition - one year ahead  ...  \\\n",
       "Serial No.                                                         ...   \n",
       "1                                             Remain the same      ...   \n",
       "2                                                Will improve      ...   \n",
       "3                                                Will improve      ...   \n",
       "4                                                Will improve      ...   \n",
       "5                                             Remain the same      ...   \n",
       "\n",
       "           Perception on essential spending - compared to one year ago  \\\n",
       "Serial No.                                                               \n",
       "1                                                   Increased            \n",
       "2                                                   Increased            \n",
       "3                                           Remained the same            \n",
       "4                                                   Increased            \n",
       "5                                                   Increased            \n",
       "\n",
       "           Outlook on essential spending - one year ahead  \\\n",
       "Serial No.                                                  \n",
       "1                                         Remain the same   \n",
       "2                                           Will increase   \n",
       "3                                           Will increase   \n",
       "4                                           Will increase   \n",
       "5                                         Remain the same   \n",
       "\n",
       "           Perception on non-essential spending - compared to one year ago  \\\n",
       "Serial No.                                                                   \n",
       "1                                                   Increased                \n",
       "2                                           Remained the same                \n",
       "3                                                   Decreased                \n",
       "4                                           Remained the same                \n",
       "5                                           Remained the same                \n",
       "\n",
       "           Outlook on non-essential spending - one year ahead  \\\n",
       "Serial No.                                                      \n",
       "1                                             Remain the same   \n",
       "2                                             Remain the same   \n",
       "3                                             Remain the same   \n",
       "4                                             Remain the same   \n",
       "5                                             Remain the same   \n",
       "\n",
       "           Perception on Employment scenario - compared to one year ago  \\\n",
       "Serial No.                                                                \n",
       "1                                           Remained the same             \n",
       "2                                                    Improved             \n",
       "3                                                    Improved             \n",
       "4                                           Remained the same             \n",
       "5                                           Remained the same             \n",
       "\n",
       "           Outlook on Employment scenario - one year ahead  \\\n",
       "Serial No.                                                   \n",
       "1                                          Remain the same   \n",
       "2                                             Will improve   \n",
       "3                                             Will improve   \n",
       "4                                             Will improve   \n",
       "5                                             Will improve   \n",
       "\n",
       "           Perception on General prices - compared to one year ago  \\\n",
       "Serial No.                                                           \n",
       "1                                                   Increased        \n",
       "2                                                   Increased        \n",
       "3                                                   Increased        \n",
       "4                                                   Increased        \n",
       "5                                                   Increased        \n",
       "\n",
       "           Outlook on General prices - one year ahead  \\\n",
       "Serial No.                                              \n",
       "1                                       Will increase   \n",
       "2                                       Will increase   \n",
       "3                                       Will decrease   \n",
       "4                                     Remain the same   \n",
       "5                                       Will increase   \n",
       "\n",
       "           Perception on Inflation - compared to one year ago  \\\n",
       "Serial No.                                                      \n",
       "1                                                   Increased   \n",
       "2                                                   Increased   \n",
       "3                                                   Increased   \n",
       "4                                                   Increased   \n",
       "5                                                   Increased   \n",
       "\n",
       "           Outlook on Inflation - one year ahead  \n",
       "Serial No.                                        \n",
       "1                                  Will increase  \n",
       "2                                  Will increase  \n",
       "3                                            NaN  \n",
       "4                                            NaN  \n",
       "5                                  Will increase  \n",
       "\n",
       "[5 rows x 24 columns]"
      ]
     },
     "execution_count": 7,
     "metadata": {},
     "output_type": "execute_result"
    }
   ],
   "source": [
    "raw_data = raw_data.drop(['Round No.','Assembly Constituency Name','City'], axis=1)\n",
    "raw_data.head()"
   ]
  },
  {
   "cell_type": "code",
   "execution_count": 8,
   "id": "042f5261",
   "metadata": {},
   "outputs": [
    {
     "name": "stdout",
     "output_type": "stream",
     "text": [
      "3\n",
      "['2019-05-31T00:00:00.000000000' '2020-05-31T00:00:00.000000000'\n",
      " '2021-05-31T00:00:00.000000000']\n",
      "4\n",
      "['22-29 year' '30-39 year' '40-59 year' '60  & above year']\n",
      "4\n",
      "['Rs. 1 lakh or less' 'Rs. 1 to less than 3 lakh' 'Rs. 3 lakh to 5 lakh'\n",
      " 'Rs. 5 lakh or more']\n",
      "7\n",
      "['10th Std-Below 12th Std' '12th Std' '5th Std-Below 10th Std'\n",
      " 'Below 5th Std' 'Graduate' 'Illiterate' 'Post Graduate']\n",
      "6\n",
      "['Unemployed' 'House wife' 'Daily worker' 'Employed'\n",
      " 'Self Employed/ Business' 'Retired/Pensioners']\n",
      "3\n",
      "['5 and more' '3 or 4' '1 to 2']\n",
      "3\n",
      "['Remained the same' 'Improved' 'Worsened']\n",
      "3\n",
      "['Remain the same' 'Will improve' 'Will worsen']\n"
     ]
    }
   ],
   "source": [
    "print(len(raw_data['Period'].unique()))\n",
    "print(raw_data['Period'].unique())\n",
    "print(len(raw_data['Age'].unique()))\n",
    "print(raw_data['Age'].unique())\n",
    "print(len(raw_data['Annual Income'].unique()))\n",
    "print(raw_data['Annual Income'].unique())\n",
    "print(len(raw_data['Educational Qualification'].unique()))\n",
    "print(raw_data['Educational Qualification'].unique())\n",
    "print(len(raw_data['Occupation of Respondent'].unique()))\n",
    "print(raw_data['Occupation of Respondent'].unique())\n",
    "print(len(raw_data['No. of Family Members'].unique()))\n",
    "print(raw_data['No. of Family Members'].unique())\n",
    "print(len(raw_data['Perception on General Economic condition - compared to one year ago'].unique()))\n",
    "print(raw_data['Perception on General Economic condition - compared to one year ago'].unique())\n",
    "print(len(raw_data['Outlook on General Economic condition - one year ahead'].unique()))\n",
    "print(raw_data['Outlook on General Economic condition - one year ahead'].unique())"
   ]
  },
  {
   "cell_type": "code",
   "execution_count": 9,
   "id": "0ba46dfe",
   "metadata": {},
   "outputs": [],
   "source": [
    "#Changing the Variable field value to numerical for inserting in the models\n",
    "\n",
    "time_dict = {\"2019-05-31T00:00:00.000000000\" : '0', \"2020-05-31T00:00:00.000000000\" :'1', \"2021-05-31T00:00:00.000000000\" : '2'}\n",
    "age_dict = {\"22-29 year\" : '0', \"30-39 year\" : '1', \"40-59 year\" : '2', \"60  & above year\": '3'}\n",
    "gender_dict = {\"Male\":'1',\"Female\":'0'}\n",
    "income_dict = {\"Rs. 1 lakh or less\":'0',\"Rs. 1 to less than 3 lakh\":'1',\n",
    "               \"Rs. 3 lakh to 5 lakh\":'2',\"Rs. 5 lakh or more\":'3'}\n",
    "occupation_dict = {\"Daily worker\":'0',\"Employed\":'1',\"House wife\":'2',\"Retired/Pensioners\":'3',\"Self Employed/ Business\":'4',\n",
    "                   \"Unemployed\":'5'}\n",
    "edu_dict = {\"Illiterate\":'0',\"Below 5th Std\":'1',\"5th Std-Below 10th Std\":'2',\"10th Std-Below 12th Std\":'3',\"12th Std\":'4',\n",
    "            \"Graduate\":'5',\"Post Graduate\":'6'}\n",
    "earning_dict = {\"1 to 2\":'2',\"3 or 4\":'4',\"5 and more\":\"10\"}"
   ]
  },
  {
   "cell_type": "code",
   "execution_count": 10,
   "id": "efbee3e4",
   "metadata": {},
   "outputs": [
    {
     "data": {
      "text/html": [
       "<div>\n",
       "<style scoped>\n",
       "    .dataframe tbody tr th:only-of-type {\n",
       "        vertical-align: middle;\n",
       "    }\n",
       "\n",
       "    .dataframe tbody tr th {\n",
       "        vertical-align: top;\n",
       "    }\n",
       "\n",
       "    .dataframe thead th {\n",
       "        text-align: right;\n",
       "    }\n",
       "</style>\n",
       "<table border=\"1\" class=\"dataframe\">\n",
       "  <thead>\n",
       "    <tr style=\"text-align: right;\">\n",
       "      <th></th>\n",
       "      <th>Period</th>\n",
       "      <th>Age</th>\n",
       "      <th>Gender</th>\n",
       "      <th>Annual Income</th>\n",
       "      <th>Educational Qualification</th>\n",
       "      <th>No. of Family Members</th>\n",
       "      <th>No. of Earning members in the family</th>\n",
       "      <th>Occupation of Respondent</th>\n",
       "      <th>Perception on General Economic condition - compared to one year ago</th>\n",
       "      <th>Outlook on General Economic condition - one year ahead</th>\n",
       "      <th>...</th>\n",
       "      <th>Perception on essential spending - compared to one year ago</th>\n",
       "      <th>Outlook on essential spending - one year ahead</th>\n",
       "      <th>Perception on non-essential spending - compared to one year ago</th>\n",
       "      <th>Outlook on non-essential spending - one year ahead</th>\n",
       "      <th>Perception on Employment scenario - compared to one year ago</th>\n",
       "      <th>Outlook on Employment scenario - one year ahead</th>\n",
       "      <th>Perception on General prices - compared to one year ago</th>\n",
       "      <th>Outlook on General prices - one year ahead</th>\n",
       "      <th>Perception on Inflation - compared to one year ago</th>\n",
       "      <th>Outlook on Inflation - one year ahead</th>\n",
       "    </tr>\n",
       "    <tr>\n",
       "      <th>Serial No.</th>\n",
       "      <th></th>\n",
       "      <th></th>\n",
       "      <th></th>\n",
       "      <th></th>\n",
       "      <th></th>\n",
       "      <th></th>\n",
       "      <th></th>\n",
       "      <th></th>\n",
       "      <th></th>\n",
       "      <th></th>\n",
       "      <th></th>\n",
       "      <th></th>\n",
       "      <th></th>\n",
       "      <th></th>\n",
       "      <th></th>\n",
       "      <th></th>\n",
       "      <th></th>\n",
       "      <th></th>\n",
       "      <th></th>\n",
       "      <th></th>\n",
       "      <th></th>\n",
       "    </tr>\n",
       "  </thead>\n",
       "  <tbody>\n",
       "    <tr>\n",
       "      <th>1</th>\n",
       "      <td>0</td>\n",
       "      <td>0</td>\n",
       "      <td>0</td>\n",
       "      <td>0</td>\n",
       "      <td>3</td>\n",
       "      <td>10</td>\n",
       "      <td>1.0</td>\n",
       "      <td>5</td>\n",
       "      <td>Remained the same</td>\n",
       "      <td>Remain the same</td>\n",
       "      <td>...</td>\n",
       "      <td>Increased</td>\n",
       "      <td>Remain the same</td>\n",
       "      <td>Increased</td>\n",
       "      <td>Remain the same</td>\n",
       "      <td>Remained the same</td>\n",
       "      <td>Remain the same</td>\n",
       "      <td>Increased</td>\n",
       "      <td>Will increase</td>\n",
       "      <td>Increased</td>\n",
       "      <td>Will increase</td>\n",
       "    </tr>\n",
       "    <tr>\n",
       "      <th>2</th>\n",
       "      <td>0</td>\n",
       "      <td>0</td>\n",
       "      <td>0</td>\n",
       "      <td>0</td>\n",
       "      <td>4</td>\n",
       "      <td>10</td>\n",
       "      <td>4.0</td>\n",
       "      <td>2</td>\n",
       "      <td>Improved</td>\n",
       "      <td>Will improve</td>\n",
       "      <td>...</td>\n",
       "      <td>Increased</td>\n",
       "      <td>Will increase</td>\n",
       "      <td>Remained the same</td>\n",
       "      <td>Remain the same</td>\n",
       "      <td>Improved</td>\n",
       "      <td>Will improve</td>\n",
       "      <td>Increased</td>\n",
       "      <td>Will increase</td>\n",
       "      <td>Increased</td>\n",
       "      <td>Will increase</td>\n",
       "    </tr>\n",
       "    <tr>\n",
       "      <th>3</th>\n",
       "      <td>0</td>\n",
       "      <td>0</td>\n",
       "      <td>0</td>\n",
       "      <td>0</td>\n",
       "      <td>2</td>\n",
       "      <td>10</td>\n",
       "      <td>2.0</td>\n",
       "      <td>2</td>\n",
       "      <td>Remained the same</td>\n",
       "      <td>Will improve</td>\n",
       "      <td>...</td>\n",
       "      <td>Remained the same</td>\n",
       "      <td>Will increase</td>\n",
       "      <td>Decreased</td>\n",
       "      <td>Remain the same</td>\n",
       "      <td>Improved</td>\n",
       "      <td>Will improve</td>\n",
       "      <td>Increased</td>\n",
       "      <td>Will decrease</td>\n",
       "      <td>Increased</td>\n",
       "      <td>NaN</td>\n",
       "    </tr>\n",
       "    <tr>\n",
       "      <th>4</th>\n",
       "      <td>0</td>\n",
       "      <td>0</td>\n",
       "      <td>0</td>\n",
       "      <td>0</td>\n",
       "      <td>2</td>\n",
       "      <td>10</td>\n",
       "      <td>1.0</td>\n",
       "      <td>2</td>\n",
       "      <td>Remained the same</td>\n",
       "      <td>Will improve</td>\n",
       "      <td>...</td>\n",
       "      <td>Increased</td>\n",
       "      <td>Will increase</td>\n",
       "      <td>Remained the same</td>\n",
       "      <td>Remain the same</td>\n",
       "      <td>Remained the same</td>\n",
       "      <td>Will improve</td>\n",
       "      <td>Increased</td>\n",
       "      <td>Remain the same</td>\n",
       "      <td>Increased</td>\n",
       "      <td>NaN</td>\n",
       "    </tr>\n",
       "    <tr>\n",
       "      <th>5</th>\n",
       "      <td>0</td>\n",
       "      <td>0</td>\n",
       "      <td>0</td>\n",
       "      <td>0</td>\n",
       "      <td>2</td>\n",
       "      <td>10</td>\n",
       "      <td>2.0</td>\n",
       "      <td>2</td>\n",
       "      <td>Remained the same</td>\n",
       "      <td>Remain the same</td>\n",
       "      <td>...</td>\n",
       "      <td>Increased</td>\n",
       "      <td>Remain the same</td>\n",
       "      <td>Remained the same</td>\n",
       "      <td>Remain the same</td>\n",
       "      <td>Remained the same</td>\n",
       "      <td>Will improve</td>\n",
       "      <td>Increased</td>\n",
       "      <td>Will increase</td>\n",
       "      <td>Increased</td>\n",
       "      <td>Will increase</td>\n",
       "    </tr>\n",
       "  </tbody>\n",
       "</table>\n",
       "<p>5 rows × 24 columns</p>\n",
       "</div>"
      ],
      "text/plain": [
       "           Period Age Gender Annual Income Educational Qualification  \\\n",
       "Serial No.                                                             \n",
       "1               0   0      0             0                         3   \n",
       "2               0   0      0             0                         4   \n",
       "3               0   0      0             0                         2   \n",
       "4               0   0      0             0                         2   \n",
       "5               0   0      0             0                         2   \n",
       "\n",
       "           No. of Family Members  No. of Earning members in the family  \\\n",
       "Serial No.                                                               \n",
       "1                             10                                   1.0   \n",
       "2                             10                                   4.0   \n",
       "3                             10                                   2.0   \n",
       "4                             10                                   1.0   \n",
       "5                             10                                   2.0   \n",
       "\n",
       "           Occupation of Respondent  \\\n",
       "Serial No.                            \n",
       "1                                 5   \n",
       "2                                 2   \n",
       "3                                 2   \n",
       "4                                 2   \n",
       "5                                 2   \n",
       "\n",
       "           Perception on General Economic condition - compared to one year ago  \\\n",
       "Serial No.                                                                       \n",
       "1                                           Remained the same                    \n",
       "2                                                    Improved                    \n",
       "3                                           Remained the same                    \n",
       "4                                           Remained the same                    \n",
       "5                                           Remained the same                    \n",
       "\n",
       "           Outlook on General Economic condition - one year ahead  ...  \\\n",
       "Serial No.                                                         ...   \n",
       "1                                             Remain the same      ...   \n",
       "2                                                Will improve      ...   \n",
       "3                                                Will improve      ...   \n",
       "4                                                Will improve      ...   \n",
       "5                                             Remain the same      ...   \n",
       "\n",
       "           Perception on essential spending - compared to one year ago  \\\n",
       "Serial No.                                                               \n",
       "1                                                   Increased            \n",
       "2                                                   Increased            \n",
       "3                                           Remained the same            \n",
       "4                                                   Increased            \n",
       "5                                                   Increased            \n",
       "\n",
       "           Outlook on essential spending - one year ahead  \\\n",
       "Serial No.                                                  \n",
       "1                                         Remain the same   \n",
       "2                                           Will increase   \n",
       "3                                           Will increase   \n",
       "4                                           Will increase   \n",
       "5                                         Remain the same   \n",
       "\n",
       "           Perception on non-essential spending - compared to one year ago  \\\n",
       "Serial No.                                                                   \n",
       "1                                                   Increased                \n",
       "2                                           Remained the same                \n",
       "3                                                   Decreased                \n",
       "4                                           Remained the same                \n",
       "5                                           Remained the same                \n",
       "\n",
       "           Outlook on non-essential spending - one year ahead  \\\n",
       "Serial No.                                                      \n",
       "1                                             Remain the same   \n",
       "2                                             Remain the same   \n",
       "3                                             Remain the same   \n",
       "4                                             Remain the same   \n",
       "5                                             Remain the same   \n",
       "\n",
       "           Perception on Employment scenario - compared to one year ago  \\\n",
       "Serial No.                                                                \n",
       "1                                           Remained the same             \n",
       "2                                                    Improved             \n",
       "3                                                    Improved             \n",
       "4                                           Remained the same             \n",
       "5                                           Remained the same             \n",
       "\n",
       "           Outlook on Employment scenario - one year ahead  \\\n",
       "Serial No.                                                   \n",
       "1                                          Remain the same   \n",
       "2                                             Will improve   \n",
       "3                                             Will improve   \n",
       "4                                             Will improve   \n",
       "5                                             Will improve   \n",
       "\n",
       "           Perception on General prices - compared to one year ago  \\\n",
       "Serial No.                                                           \n",
       "1                                                   Increased        \n",
       "2                                                   Increased        \n",
       "3                                                   Increased        \n",
       "4                                                   Increased        \n",
       "5                                                   Increased        \n",
       "\n",
       "           Outlook on General prices - one year ahead  \\\n",
       "Serial No.                                              \n",
       "1                                       Will increase   \n",
       "2                                       Will increase   \n",
       "3                                       Will decrease   \n",
       "4                                     Remain the same   \n",
       "5                                       Will increase   \n",
       "\n",
       "           Perception on Inflation - compared to one year ago  \\\n",
       "Serial No.                                                      \n",
       "1                                                   Increased   \n",
       "2                                                   Increased   \n",
       "3                                                   Increased   \n",
       "4                                                   Increased   \n",
       "5                                                   Increased   \n",
       "\n",
       "           Outlook on Inflation - one year ahead  \n",
       "Serial No.                                        \n",
       "1                                  Will increase  \n",
       "2                                  Will increase  \n",
       "3                                            NaN  \n",
       "4                                            NaN  \n",
       "5                                  Will increase  \n",
       "\n",
       "[5 rows x 24 columns]"
      ]
     },
     "execution_count": 10,
     "metadata": {},
     "output_type": "execute_result"
    }
   ],
   "source": [
    "raw_data.replace({\"Period\":time_dict, \"Age\":age_dict, \"Gender\":gender_dict, \"Annual Income\":income_dict,\n",
    "                       \"Occupation of Respondent\":occupation_dict, \"Educational Qualification\":edu_dict,\n",
    "                     \"No. of Family Members\":earning_dict},inplace=True)\n",
    "raw_data.head()"
   ]
  },
  {
   "cell_type": "code",
   "execution_count": 11,
   "id": "f6dc4076",
   "metadata": {},
   "outputs": [],
   "source": [
    "#Standardizing the inputs\n",
    "df = raw_data"
   ]
  },
  {
   "cell_type": "code",
   "execution_count": 12,
   "id": "1cbe3a71",
   "metadata": {},
   "outputs": [
    {
     "name": "stdout",
     "output_type": "stream",
     "text": [
      "3\n",
      "['0' '1' '2']\n",
      "4\n",
      "['0' '1' '2' '3']\n",
      "4\n",
      "['0' '1' '2' '3']\n",
      "7\n",
      "['3' '4' '2' '1' '5' '0' '6']\n",
      "6\n",
      "['5' '2' '0' '1' '4' '3']\n",
      "3\n",
      "['10' '4' '2']\n"
     ]
    }
   ],
   "source": [
    "print(len(raw_data['Period'].unique()))\n",
    "print(raw_data['Period'].unique())\n",
    "print(len(df['Age'].unique()))\n",
    "print(df['Age'].unique())\n",
    "print(len(df['Annual Income'].unique()))\n",
    "print(df['Annual Income'].unique())\n",
    "print(len(df['Educational Qualification'].unique()))\n",
    "print(df['Educational Qualification'].unique())\n",
    "print(len(df['Occupation of Respondent'].unique()))\n",
    "print(df['Occupation of Respondent'].unique())\n",
    "print(len(df['No. of Family Members'].unique()))\n",
    "print(df['No. of Family Members'].unique())"
   ]
  },
  {
   "cell_type": "code",
   "execution_count": 13,
   "id": "282132c6",
   "metadata": {},
   "outputs": [],
   "source": [
    "df[['Period','Age','Annual Income','Educational Qualification','Occupation of Respondent','No. of Family Members']] = df[['Period','Age','Annual Income','Educational Qualification','Occupation of Respondent','No. of Family Members']].astype('int')"
   ]
  },
  {
   "cell_type": "code",
   "execution_count": 14,
   "id": "2e6909a2",
   "metadata": {},
   "outputs": [],
   "source": [
    "df = df.dropna()"
   ]
  },
  {
   "cell_type": "code",
   "execution_count": 15,
   "id": "a9fd8fcb",
   "metadata": {},
   "outputs": [
    {
     "name": "stderr",
     "output_type": "stream",
     "text": [
      "C:\\Users\\Lenovo\\AppData\\Local\\Temp\\ipykernel_19908\\526678739.py:1: SettingWithCopyWarning: \n",
      "A value is trying to be set on a copy of a slice from a DataFrame.\n",
      "Try using .loc[row_indexer,col_indexer] = value instead\n",
      "\n",
      "See the caveats in the documentation: https://pandas.pydata.org/pandas-docs/stable/user_guide/indexing.html#returning-a-view-versus-a-copy\n",
      "  df[['No. of Earning members in the family','No. of Family Members']] = df[['No. of Earning members in the family','No. of Family Members']].astype('int')\n",
      "C:\\Users\\Lenovo\\AppData\\Local\\Temp\\ipykernel_19908\\526678739.py:2: SettingWithCopyWarning: \n",
      "A value is trying to be set on a copy of a slice from a DataFrame.\n",
      "Try using .loc[row_indexer,col_indexer] = value instead\n",
      "\n",
      "See the caveats in the documentation: https://pandas.pydata.org/pandas-docs/stable/user_guide/indexing.html#returning-a-view-versus-a-copy\n",
      "  df[\"Earning percent\"] = df['No. of Earning members in the family']/df['No. of Family Members']\n"
     ]
    }
   ],
   "source": [
    "df[['No. of Earning members in the family','No. of Family Members']] = df[['No. of Earning members in the family','No. of Family Members']].astype('int')\n",
    "df[\"Earning percent\"] = df['No. of Earning members in the family']/df['No. of Family Members']\n",
    "df = df.drop(['No. of Family Members','No. of Earning members in the family'],axis = 1)"
   ]
  },
  {
   "cell_type": "code",
   "execution_count": 16,
   "id": "b3d50bba",
   "metadata": {},
   "outputs": [
    {
     "data": {
      "text/plain": [
       "Index(['Earning percent', 'Period', 'Age', 'Gender', 'Annual Income',\n",
       "       'Educational Qualification', 'Occupation of Respondent',\n",
       "       'Perception on General Economic condition - compared to one year ago',\n",
       "       'Outlook on General Economic condition - one year ahead',\n",
       "       'Perception on Household income - compared to one year ago',\n",
       "       'Outlook on Household income - one year ahead',\n",
       "       'Perception on Household spending - compared to one year ago',\n",
       "       'Outlook on Household spending - one year ahead',\n",
       "       'Perception on essential spending - compared to one year ago',\n",
       "       'Outlook on essential spending - one year ahead',\n",
       "       'Perception on non-essential spending - compared to one year ago',\n",
       "       'Outlook on non-essential spending - one year ahead',\n",
       "       'Perception on Employment scenario - compared to one year ago',\n",
       "       'Outlook on Employment scenario - one year ahead',\n",
       "       'Perception on General prices - compared to one year ago',\n",
       "       'Outlook on General prices - one year ahead',\n",
       "       'Perception on Inflation - compared to one year ago',\n",
       "       'Outlook on Inflation - one year ahead'],\n",
       "      dtype='object')"
      ]
     },
     "execution_count": 16,
     "metadata": {},
     "output_type": "execute_result"
    }
   ],
   "source": [
    "cols = df.columns.tolist()\n",
    "cols = cols[-1:] + cols[:-1]\n",
    "df = df[cols]\n",
    "df.columns"
   ]
  },
  {
   "cell_type": "markdown",
   "id": "c2f2c466",
   "metadata": {},
   "source": [
    "# Cleaning the Target dataset"
   ]
  },
  {
   "cell_type": "code",
   "execution_count": 17,
   "id": "bcd47c4a",
   "metadata": {},
   "outputs": [],
   "source": [
    "#checkpoint\n",
    "df_copy = df"
   ]
  },
  {
   "cell_type": "code",
   "execution_count": 18,
   "id": "06b91b88",
   "metadata": {},
   "outputs": [],
   "source": [
    "perception_dict = {\"Worsened\":'0', \"Remained the same\":'1', \"Improved\":'2'}\n",
    "outlook_dict = {\"Will decrease\":'0', \"Remain the same\":'1', \"Will increase\":'2'}\n",
    "perception_dict1 = {\"Decreased\":'0', \"Remained the same\":'1', \"Increased\":'2'}"
   ]
  },
  {
   "cell_type": "code",
   "execution_count": 19,
   "id": "5b7b748a",
   "metadata": {},
   "outputs": [],
   "source": [
    "df_copy.replace({\"Perception on General Economic condition - compared to one year ago\":perception_dict,\n",
    "                 \"Perception on Household income - compared to one year ago\":perception_dict1,\n",
    "                 \"Perception on essential spending - compared to one year ago\":perception_dict1,\n",
    "                 \"Perception on Inflation - compared to one year ago\":perception_dict1,\n",
    "                \"Perception on Employment scenario - compared to one year ago\":perception_dict},inplace = True)"
   ]
  },
  {
   "cell_type": "code",
   "execution_count": 20,
   "id": "79cd49ec",
   "metadata": {},
   "outputs": [
    {
     "name": "stdout",
     "output_type": "stream",
     "text": [
      "3\n",
      "['1' '2' '0']\n",
      "3\n",
      "['1' '2' '0']\n",
      "3\n",
      "['2' '1' '0']\n",
      "3\n",
      "['2' '1' '0']\n",
      "3\n",
      "['1' '2' '0']\n"
     ]
    }
   ],
   "source": [
    "print(len(df_copy['Perception on General Economic condition - compared to one year ago'].unique()))\n",
    "print(df_copy['Perception on General Economic condition - compared to one year ago'].unique())\n",
    "print(len(df_copy['Perception on Household income - compared to one year ago'].unique()))\n",
    "print(df_copy['Perception on Household income - compared to one year ago'].unique())\n",
    "print(len(df_copy['Perception on essential spending - compared to one year ago'].unique()))\n",
    "print(df_copy['Perception on essential spending - compared to one year ago'].unique())\n",
    "print(len(df_copy['Perception on Inflation - compared to one year ago'].unique()))\n",
    "print(df_copy['Perception on Inflation - compared to one year ago'].unique())\n",
    "print(len(df_copy['Perception on Employment scenario - compared to one year ago'].unique()))\n",
    "print(df_copy['Perception on Employment scenario - compared to one year ago'].unique())"
   ]
  },
  {
   "cell_type": "code",
   "execution_count": 21,
   "id": "3d3b70a9",
   "metadata": {},
   "outputs": [],
   "source": [
    "df_copy[['Perception on General Economic condition - compared to one year ago',\n",
    "         'Perception on Household income - compared to one year ago',\n",
    "         'Perception on essential spending - compared to one year ago',\n",
    "         'Perception on Inflation - compared to one year ago',\n",
    "        'Perception on Employment scenario - compared to one year ago']] = df_copy[['Perception on General Economic condition - compared to one year ago',\n",
    "         'Perception on Household income - compared to one year ago',\n",
    "         'Perception on essential spending - compared to one year ago',\n",
    "         'Perception on Inflation - compared to one year ago',\n",
    "        'Perception on Employment scenario - compared to one year ago']].astype('int')"
   ]
  },
  {
   "cell_type": "code",
   "execution_count": 22,
   "id": "de2dd067",
   "metadata": {},
   "outputs": [
    {
     "data": {
      "text/html": [
       "<div>\n",
       "<style scoped>\n",
       "    .dataframe tbody tr th:only-of-type {\n",
       "        vertical-align: middle;\n",
       "    }\n",
       "\n",
       "    .dataframe tbody tr th {\n",
       "        vertical-align: top;\n",
       "    }\n",
       "\n",
       "    .dataframe thead th {\n",
       "        text-align: right;\n",
       "    }\n",
       "</style>\n",
       "<table border=\"1\" class=\"dataframe\">\n",
       "  <thead>\n",
       "    <tr style=\"text-align: right;\">\n",
       "      <th></th>\n",
       "      <th>Earning percent</th>\n",
       "      <th>Period</th>\n",
       "      <th>Age</th>\n",
       "      <th>Gender</th>\n",
       "      <th>Annual Income</th>\n",
       "      <th>Educational Qualification</th>\n",
       "      <th>Occupation of Respondent</th>\n",
       "      <th>Perception on General Economic condition - compared to one year ago</th>\n",
       "      <th>Perception on Household income - compared to one year ago</th>\n",
       "      <th>Perception on essential spending - compared to one year ago</th>\n",
       "      <th>Perception on Employment scenario - compared to one year ago</th>\n",
       "      <th>Perception on Inflation - compared to one year ago</th>\n",
       "    </tr>\n",
       "    <tr>\n",
       "      <th>Serial No.</th>\n",
       "      <th></th>\n",
       "      <th></th>\n",
       "      <th></th>\n",
       "      <th></th>\n",
       "      <th></th>\n",
       "      <th></th>\n",
       "      <th></th>\n",
       "      <th></th>\n",
       "      <th></th>\n",
       "      <th></th>\n",
       "      <th></th>\n",
       "      <th></th>\n",
       "    </tr>\n",
       "  </thead>\n",
       "  <tbody>\n",
       "    <tr>\n",
       "      <th>6496</th>\n",
       "      <td>0.75</td>\n",
       "      <td>1</td>\n",
       "      <td>0</td>\n",
       "      <td>0</td>\n",
       "      <td>1</td>\n",
       "      <td>2</td>\n",
       "      <td>2</td>\n",
       "      <td>0</td>\n",
       "      <td>1</td>\n",
       "      <td>1</td>\n",
       "      <td>2</td>\n",
       "      <td>0</td>\n",
       "    </tr>\n",
       "    <tr>\n",
       "      <th>12661</th>\n",
       "      <td>0.25</td>\n",
       "      <td>2</td>\n",
       "      <td>1</td>\n",
       "      <td>0</td>\n",
       "      <td>1</td>\n",
       "      <td>3</td>\n",
       "      <td>2</td>\n",
       "      <td>0</td>\n",
       "      <td>1</td>\n",
       "      <td>2</td>\n",
       "      <td>0</td>\n",
       "      <td>1</td>\n",
       "    </tr>\n",
       "    <tr>\n",
       "      <th>2642</th>\n",
       "      <td>0.25</td>\n",
       "      <td>0</td>\n",
       "      <td>0</td>\n",
       "      <td>0</td>\n",
       "      <td>0</td>\n",
       "      <td>2</td>\n",
       "      <td>2</td>\n",
       "      <td>2</td>\n",
       "      <td>1</td>\n",
       "      <td>2</td>\n",
       "      <td>2</td>\n",
       "      <td>2</td>\n",
       "    </tr>\n",
       "    <tr>\n",
       "      <th>15493</th>\n",
       "      <td>0.25</td>\n",
       "      <td>2</td>\n",
       "      <td>1</td>\n",
       "      <td>1</td>\n",
       "      <td>1</td>\n",
       "      <td>5</td>\n",
       "      <td>4</td>\n",
       "      <td>0</td>\n",
       "      <td>0</td>\n",
       "      <td>2</td>\n",
       "      <td>0</td>\n",
       "      <td>2</td>\n",
       "    </tr>\n",
       "    <tr>\n",
       "      <th>2443</th>\n",
       "      <td>0.20</td>\n",
       "      <td>0</td>\n",
       "      <td>3</td>\n",
       "      <td>1</td>\n",
       "      <td>0</td>\n",
       "      <td>0</td>\n",
       "      <td>0</td>\n",
       "      <td>0</td>\n",
       "      <td>0</td>\n",
       "      <td>2</td>\n",
       "      <td>0</td>\n",
       "      <td>2</td>\n",
       "    </tr>\n",
       "  </tbody>\n",
       "</table>\n",
       "</div>"
      ],
      "text/plain": [
       "            Earning percent  Period  Age Gender  Annual Income  \\\n",
       "Serial No.                                                       \n",
       "6496                   0.75       1    0      0              1   \n",
       "12661                  0.25       2    1      0              1   \n",
       "2642                   0.25       0    0      0              0   \n",
       "15493                  0.25       2    1      1              1   \n",
       "2443                   0.20       0    3      1              0   \n",
       "\n",
       "            Educational Qualification  Occupation of Respondent  \\\n",
       "Serial No.                                                        \n",
       "6496                                2                         2   \n",
       "12661                               3                         2   \n",
       "2642                                2                         2   \n",
       "15493                               5                         4   \n",
       "2443                                0                         0   \n",
       "\n",
       "            Perception on General Economic condition - compared to one year ago  \\\n",
       "Serial No.                                                                        \n",
       "6496                                                        0                     \n",
       "12661                                                       0                     \n",
       "2642                                                        2                     \n",
       "15493                                                       0                     \n",
       "2443                                                        0                     \n",
       "\n",
       "            Perception on Household income - compared to one year ago  \\\n",
       "Serial No.                                                              \n",
       "6496                                                        1           \n",
       "12661                                                       1           \n",
       "2642                                                        1           \n",
       "15493                                                       0           \n",
       "2443                                                        0           \n",
       "\n",
       "            Perception on essential spending - compared to one year ago  \\\n",
       "Serial No.                                                                \n",
       "6496                                                        1             \n",
       "12661                                                       2             \n",
       "2642                                                        2             \n",
       "15493                                                       2             \n",
       "2443                                                        2             \n",
       "\n",
       "            Perception on Employment scenario - compared to one year ago  \\\n",
       "Serial No.                                                                 \n",
       "6496                                                        2              \n",
       "12661                                                       0              \n",
       "2642                                                        2              \n",
       "15493                                                       0              \n",
       "2443                                                        0              \n",
       "\n",
       "            Perception on Inflation - compared to one year ago  \n",
       "Serial No.                                                      \n",
       "6496                                                        0   \n",
       "12661                                                       1   \n",
       "2642                                                        2   \n",
       "15493                                                       2   \n",
       "2443                                                        2   "
      ]
     },
     "execution_count": 22,
     "metadata": {},
     "output_type": "execute_result"
    }
   ],
   "source": [
    "#Random Shuffling\n",
    "df_copy = df_copy.drop(['Outlook on General Economic condition - one year ahead',\n",
    "                        'Outlook on Household income - one year ahead',\n",
    "                        'Outlook on Household spending - one year ahead',\n",
    "                        'Outlook on essential spending - one year ahead',\n",
    "                        'Outlook on non-essential spending - one year ahead',\n",
    "                        'Outlook on Employment scenario - one year ahead',\n",
    "                        'Outlook on General prices - one year ahead',\n",
    "                        'Outlook on Inflation - one year ahead',\n",
    "                        'Perception on Household spending - compared to one year ago',\n",
    "                        'Perception on non-essential spending - compared to one year ago',\n",
    "                        'Perception on General prices - compared to one year ago'], axis=1)\n",
    "df_copy = df_copy.sample(frac = 1)\n",
    "df_copy.head()"
   ]
  },
  {
   "cell_type": "code",
   "execution_count": 23,
   "id": "33ba8008",
   "metadata": {},
   "outputs": [],
   "source": [
    "input_data = df_copy.iloc[:,0:7]\n",
    "target = df_copy.iloc[:,7:12]\n",
    "target_economic_condition = df_copy.iloc[:,6:7]\n",
    "target_household_income = df_copy.iloc[:,7:8]\n",
    "target_essential_spending = df_copy.iloc[:,8:9]\n",
    "target_perception_inflation = df_copy.iloc[:,9:10]\n",
    "target_outlook_inflation = df_copy.iloc[:,10:11]"
   ]
  },
  {
   "cell_type": "code",
   "execution_count": 24,
   "id": "4ae8c962",
   "metadata": {},
   "outputs": [
    {
     "name": "stdout",
     "output_type": "stream",
     "text": [
      "8661\n",
      "1084\n",
      "1082\n"
     ]
    }
   ],
   "source": [
    "#Dividing into train, Validation and testing dataset\n",
    "count = df_copy.shape[0]\n",
    "\n",
    "train_count = int(0.8*count)\n",
    "validation_count = int(0.1*count)\n",
    "test_count = count - train_count - validation_count\n",
    "\n",
    "print(train_count)\n",
    "print(test_count)\n",
    "print(validation_count)"
   ]
  },
  {
   "cell_type": "code",
   "execution_count": 25,
   "id": "a0da9b6d",
   "metadata": {},
   "outputs": [],
   "source": [
    "train_input = input_data[:train_count]\n",
    "validation_input = input_data[train_count:train_count+validation_count]\n",
    "test_input = input_data[train_count+validation_count:]"
   ]
  },
  {
   "cell_type": "code",
   "execution_count": 26,
   "id": "b28558d2",
   "metadata": {},
   "outputs": [],
   "source": [
    "train_target = target[:train_count]\n",
    "validation_target = target[train_count:train_count+validation_count]\n",
    "test_target = target[train_count+validation_count:]"
   ]
  },
  {
   "cell_type": "code",
   "execution_count": 27,
   "id": "763e6b43",
   "metadata": {},
   "outputs": [],
   "source": [
    "train_target_es = train_target[\"Perception on essential spending - compared to one year ago\"]\n",
    "test_target_es = test_target[\"Perception on essential spending - compared to one year ago\"]\n",
    "\n",
    "train_target_ec = train_target[\"Perception on General Economic condition - compared to one year ago\"]\n",
    "test_target_ec = test_target[\"Perception on General Economic condition - compared to one year ago\"]\n",
    "\n",
    "train_target_hi = train_target[\"Perception on Household income - compared to one year ago\"]\n",
    "test_target_hi = test_target[\"Perception on Household income - compared to one year ago\"]\n",
    "\n",
    "train_target_ess = train_target[\"Perception on Employment scenario - compared to one year ago\"]\n",
    "test_target_ess = test_target[\"Perception on Employment scenario - compared to one year ago\"]\n",
    "\n",
    "train_target_i = train_target[\"Perception on Inflation - compared to one year ago\"]\n",
    "test_target_i = test_target[\"Perception on Inflation - compared to one year ago\"]\n"
   ]
  },
  {
   "cell_type": "code",
   "execution_count": 28,
   "id": "fdea9389",
   "metadata": {},
   "outputs": [
    {
     "data": {
      "text/html": [
       "<div>\n",
       "<style scoped>\n",
       "    .dataframe tbody tr th:only-of-type {\n",
       "        vertical-align: middle;\n",
       "    }\n",
       "\n",
       "    .dataframe tbody tr th {\n",
       "        vertical-align: top;\n",
       "    }\n",
       "\n",
       "    .dataframe thead th {\n",
       "        text-align: right;\n",
       "    }\n",
       "</style>\n",
       "<table border=\"1\" class=\"dataframe\">\n",
       "  <thead>\n",
       "    <tr style=\"text-align: right;\">\n",
       "      <th></th>\n",
       "      <th>Earning percent</th>\n",
       "      <th>Period</th>\n",
       "      <th>Age</th>\n",
       "      <th>Gender</th>\n",
       "      <th>Annual Income</th>\n",
       "      <th>Educational Qualification</th>\n",
       "      <th>Occupation of Respondent</th>\n",
       "    </tr>\n",
       "    <tr>\n",
       "      <th>Serial No.</th>\n",
       "      <th></th>\n",
       "      <th></th>\n",
       "      <th></th>\n",
       "      <th></th>\n",
       "      <th></th>\n",
       "      <th></th>\n",
       "      <th></th>\n",
       "    </tr>\n",
       "  </thead>\n",
       "  <tbody>\n",
       "    <tr>\n",
       "      <th>6496</th>\n",
       "      <td>0.75</td>\n",
       "      <td>1</td>\n",
       "      <td>0</td>\n",
       "      <td>0</td>\n",
       "      <td>1</td>\n",
       "      <td>2</td>\n",
       "      <td>2</td>\n",
       "    </tr>\n",
       "    <tr>\n",
       "      <th>12661</th>\n",
       "      <td>0.25</td>\n",
       "      <td>2</td>\n",
       "      <td>1</td>\n",
       "      <td>0</td>\n",
       "      <td>1</td>\n",
       "      <td>3</td>\n",
       "      <td>2</td>\n",
       "    </tr>\n",
       "    <tr>\n",
       "      <th>2642</th>\n",
       "      <td>0.25</td>\n",
       "      <td>0</td>\n",
       "      <td>0</td>\n",
       "      <td>0</td>\n",
       "      <td>0</td>\n",
       "      <td>2</td>\n",
       "      <td>2</td>\n",
       "    </tr>\n",
       "    <tr>\n",
       "      <th>15493</th>\n",
       "      <td>0.25</td>\n",
       "      <td>2</td>\n",
       "      <td>1</td>\n",
       "      <td>1</td>\n",
       "      <td>1</td>\n",
       "      <td>5</td>\n",
       "      <td>4</td>\n",
       "    </tr>\n",
       "    <tr>\n",
       "      <th>2443</th>\n",
       "      <td>0.20</td>\n",
       "      <td>0</td>\n",
       "      <td>3</td>\n",
       "      <td>1</td>\n",
       "      <td>0</td>\n",
       "      <td>0</td>\n",
       "      <td>0</td>\n",
       "    </tr>\n",
       "  </tbody>\n",
       "</table>\n",
       "</div>"
      ],
      "text/plain": [
       "            Earning percent  Period  Age Gender  Annual Income  \\\n",
       "Serial No.                                                       \n",
       "6496                   0.75       1    0      0              1   \n",
       "12661                  0.25       2    1      0              1   \n",
       "2642                   0.25       0    0      0              0   \n",
       "15493                  0.25       2    1      1              1   \n",
       "2443                   0.20       0    3      1              0   \n",
       "\n",
       "            Educational Qualification  Occupation of Respondent  \n",
       "Serial No.                                                       \n",
       "6496                                2                         2  \n",
       "12661                               3                         2  \n",
       "2642                                2                         2  \n",
       "15493                               5                         4  \n",
       "2443                                0                         0  "
      ]
     },
     "execution_count": 28,
     "metadata": {},
     "output_type": "execute_result"
    }
   ],
   "source": [
    "train_input.head()"
   ]
  },
  {
   "cell_type": "code",
   "execution_count": 29,
   "id": "75379dbd",
   "metadata": {
    "scrolled": true
   },
   "outputs": [
    {
     "data": {
      "text/html": [
       "<div>\n",
       "<style scoped>\n",
       "    .dataframe tbody tr th:only-of-type {\n",
       "        vertical-align: middle;\n",
       "    }\n",
       "\n",
       "    .dataframe tbody tr th {\n",
       "        vertical-align: top;\n",
       "    }\n",
       "\n",
       "    .dataframe thead th {\n",
       "        text-align: right;\n",
       "    }\n",
       "</style>\n",
       "<table border=\"1\" class=\"dataframe\">\n",
       "  <thead>\n",
       "    <tr style=\"text-align: right;\">\n",
       "      <th></th>\n",
       "      <th>Perception on General Economic condition - compared to one year ago</th>\n",
       "      <th>Perception on Household income - compared to one year ago</th>\n",
       "      <th>Perception on essential spending - compared to one year ago</th>\n",
       "      <th>Perception on Employment scenario - compared to one year ago</th>\n",
       "      <th>Perception on Inflation - compared to one year ago</th>\n",
       "    </tr>\n",
       "    <tr>\n",
       "      <th>Serial No.</th>\n",
       "      <th></th>\n",
       "      <th></th>\n",
       "      <th></th>\n",
       "      <th></th>\n",
       "      <th></th>\n",
       "    </tr>\n",
       "  </thead>\n",
       "  <tbody>\n",
       "    <tr>\n",
       "      <th>6496</th>\n",
       "      <td>0</td>\n",
       "      <td>1</td>\n",
       "      <td>1</td>\n",
       "      <td>2</td>\n",
       "      <td>0</td>\n",
       "    </tr>\n",
       "    <tr>\n",
       "      <th>12661</th>\n",
       "      <td>0</td>\n",
       "      <td>1</td>\n",
       "      <td>2</td>\n",
       "      <td>0</td>\n",
       "      <td>1</td>\n",
       "    </tr>\n",
       "    <tr>\n",
       "      <th>2642</th>\n",
       "      <td>2</td>\n",
       "      <td>1</td>\n",
       "      <td>2</td>\n",
       "      <td>2</td>\n",
       "      <td>2</td>\n",
       "    </tr>\n",
       "    <tr>\n",
       "      <th>15493</th>\n",
       "      <td>0</td>\n",
       "      <td>0</td>\n",
       "      <td>2</td>\n",
       "      <td>0</td>\n",
       "      <td>2</td>\n",
       "    </tr>\n",
       "    <tr>\n",
       "      <th>2443</th>\n",
       "      <td>0</td>\n",
       "      <td>0</td>\n",
       "      <td>2</td>\n",
       "      <td>0</td>\n",
       "      <td>2</td>\n",
       "    </tr>\n",
       "  </tbody>\n",
       "</table>\n",
       "</div>"
      ],
      "text/plain": [
       "            Perception on General Economic condition - compared to one year ago  \\\n",
       "Serial No.                                                                        \n",
       "6496                                                        0                     \n",
       "12661                                                       0                     \n",
       "2642                                                        2                     \n",
       "15493                                                       0                     \n",
       "2443                                                        0                     \n",
       "\n",
       "            Perception on Household income - compared to one year ago  \\\n",
       "Serial No.                                                              \n",
       "6496                                                        1           \n",
       "12661                                                       1           \n",
       "2642                                                        1           \n",
       "15493                                                       0           \n",
       "2443                                                        0           \n",
       "\n",
       "            Perception on essential spending - compared to one year ago  \\\n",
       "Serial No.                                                                \n",
       "6496                                                        1             \n",
       "12661                                                       2             \n",
       "2642                                                        2             \n",
       "15493                                                       2             \n",
       "2443                                                        2             \n",
       "\n",
       "            Perception on Employment scenario - compared to one year ago  \\\n",
       "Serial No.                                                                 \n",
       "6496                                                        2              \n",
       "12661                                                       0              \n",
       "2642                                                        2              \n",
       "15493                                                       0              \n",
       "2443                                                        0              \n",
       "\n",
       "            Perception on Inflation - compared to one year ago  \n",
       "Serial No.                                                      \n",
       "6496                                                        0   \n",
       "12661                                                       1   \n",
       "2642                                                        2   \n",
       "15493                                                       2   \n",
       "2443                                                        2   "
      ]
     },
     "execution_count": 29,
     "metadata": {},
     "output_type": "execute_result"
    }
   ],
   "source": [
    "train_target.head()"
   ]
  },
  {
   "cell_type": "code",
   "execution_count": 30,
   "id": "3ed68680",
   "metadata": {},
   "outputs": [],
   "source": [
    "#Three lines to make our compiler able to draw:\n",
    "import sys\n",
    "import matplotlib\n",
    "matplotlib.use('Agg')\n",
    "\n",
    "from sklearn import tree\n",
    "from sklearn.tree import DecisionTreeClassifier\n",
    "import matplotlib.pyplot as plt\n",
    "from sklearn import metrics"
   ]
  },
  {
   "cell_type": "markdown",
   "id": "164416b5",
   "metadata": {},
   "source": [
    "## Modle Deployment of Decision Tree Machine Learning Algorithm"
   ]
  },
  {
   "cell_type": "code",
   "execution_count": 39,
   "id": "3a2c116f",
   "metadata": {},
   "outputs": [
    {
     "name": "stdout",
     "output_type": "stream",
     "text": [
      "Accuracy of target Variable Essential Spending: 0.672509225092251\n"
     ]
    }
   ],
   "source": [
    "dtree_es = DecisionTreeClassifier()\n",
    "dtree_es = dtree_es.fit(train_input,train_target_es)\n",
    "y_pred_es = dtree_es.predict(test_input)\n",
    "print(\"Accuracy of target Variable Essential Spending:\",metrics.accuracy_score(test_target_es, y_pred_es))"
   ]
  },
  {
   "cell_type": "code",
   "execution_count": 40,
   "id": "7f6946b6",
   "metadata": {},
   "outputs": [
    {
     "name": "stdout",
     "output_type": "stream",
     "text": [
      "Accuracy of target Variable Household Income: 0.496309963099631\n"
     ]
    }
   ],
   "source": [
    "dtree_hi = DecisionTreeClassifier()\n",
    "dtree_hi = dtree_hi.fit(train_input,train_target_hi)\n",
    "y_pred_hi = dtree_hi.predict(test_input)\n",
    "print(\"Accuracy of target Variable Household Income:\",metrics.accuracy_score(test_target_hi, y_pred_hi))"
   ]
  },
  {
   "cell_type": "code",
   "execution_count": 41,
   "id": "26ef4f03",
   "metadata": {},
   "outputs": [
    {
     "name": "stdout",
     "output_type": "stream",
     "text": [
      "Accuracy of target Variable Economic condition: : 0.6485239852398524\n"
     ]
    }
   ],
   "source": [
    "dtree_ec = DecisionTreeClassifier()\n",
    "dtree_ec = dtree_ec.fit(train_input,train_target_ec)\n",
    "y_pred_ec = dtree_ec.predict(test_input)\n",
    "print(\"Accuracy of target Variable Economic condition: :\",metrics.accuracy_score(test_target_ec, y_pred_ec))"
   ]
  },
  {
   "cell_type": "code",
   "execution_count": 42,
   "id": "2fcbdcf9",
   "metadata": {},
   "outputs": [
    {
     "name": "stdout",
     "output_type": "stream",
     "text": [
      "Accuracy of target Variable Employment Scenario: 0.6153136531365314\n"
     ]
    }
   ],
   "source": [
    "dtree_ess = DecisionTreeClassifier()\n",
    "dtree_ess = dtree_ess.fit(train_input,train_target_ess)\n",
    "y_pred_ess = dtree_ess.predict(test_input)\n",
    "print(\"Accuracy of target Variable Employment Scenario:\",metrics.accuracy_score(test_target_ess, y_pred_ess))"
   ]
  },
  {
   "cell_type": "code",
   "execution_count": 43,
   "id": "08ae779b",
   "metadata": {},
   "outputs": [
    {
     "name": "stdout",
     "output_type": "stream",
     "text": [
      "Accuracy of target Variable Inflation: 0.7297047970479705\n"
     ]
    }
   ],
   "source": [
    "dtree_i = DecisionTreeClassifier()\n",
    "dtree_i = dtree_i.fit(train_input,train_target_i)\n",
    "y_pred_i = dtree_i.predict(test_input)\n",
    "print(\"Accuracy of target Variable Inflation:\",metrics.accuracy_score(test_target_i, y_pred_i))"
   ]
  },
  {
   "cell_type": "code",
   "execution_count": null,
   "id": "90c0ff94",
   "metadata": {},
   "outputs": [],
   "source": []
  },
  {
   "cell_type": "markdown",
   "id": "db6cfea0",
   "metadata": {},
   "source": [
    "## Modle Deployment of Logisitc Regresion Machine Learning Algorithm"
   ]
  },
  {
   "cell_type": "code",
   "execution_count": 44,
   "id": "db1c64c6",
   "metadata": {},
   "outputs": [],
   "source": [
    "from sklearn.linear_model import LogisticRegression\n",
    "from sklearn.metrics import classification_report\n",
    "import matplotlib.pyplot as plt\n",
    "import seaborn as sns\n",
    "\n",
    "target_names = ['Worsened', 'remaine the same', 'Improved']"
   ]
  },
  {
   "cell_type": "code",
   "execution_count": 45,
   "id": "7b0e2433",
   "metadata": {},
   "outputs": [
    {
     "data": {
      "text/plain": [
       "array([[744,   0,  17],\n",
       "       [135,   0,  15],\n",
       "       [152,   0,  21]], dtype=int64)"
      ]
     },
     "execution_count": 45,
     "metadata": {},
     "output_type": "execute_result"
    }
   ],
   "source": [
    "#Target Variable General Economic Condition\n",
    "\n",
    "logreg_ec = LogisticRegression()\n",
    "logreg_ec.fit(train_input, train_target_ec)\n",
    "y_lr_pred_ec = logreg_ec.predict(test_input)\n",
    "cnf_matrix_ec = metrics.confusion_matrix(test_target_ec, y_lr_pred_ec)\n",
    "cnf_matrix_ec"
   ]
  },
  {
   "cell_type": "code",
   "execution_count": 46,
   "id": "3567985e",
   "metadata": {},
   "outputs": [
    {
     "name": "stdout",
     "output_type": "stream",
     "text": [
      "                  precision    recall  f1-score   support\n",
      "\n",
      "        Worsened       0.72      0.98      0.83       761\n",
      "remaine the same       0.00      0.00      0.00       150\n",
      "        Improved       0.40      0.12      0.19       173\n",
      "\n",
      "        accuracy                           0.71      1084\n",
      "       macro avg       0.37      0.37      0.34      1084\n",
      "    weighted avg       0.57      0.71      0.61      1084\n",
      "\n"
     ]
    },
    {
     "name": "stderr",
     "output_type": "stream",
     "text": [
      "C:\\Users\\Lenovo\\anaconda3\\lib\\site-packages\\sklearn\\metrics\\_classification.py:1344: UndefinedMetricWarning: Precision and F-score are ill-defined and being set to 0.0 in labels with no predicted samples. Use `zero_division` parameter to control this behavior.\n",
      "  _warn_prf(average, modifier, msg_start, len(result))\n",
      "C:\\Users\\Lenovo\\anaconda3\\lib\\site-packages\\sklearn\\metrics\\_classification.py:1344: UndefinedMetricWarning: Precision and F-score are ill-defined and being set to 0.0 in labels with no predicted samples. Use `zero_division` parameter to control this behavior.\n",
      "  _warn_prf(average, modifier, msg_start, len(result))\n",
      "C:\\Users\\Lenovo\\anaconda3\\lib\\site-packages\\sklearn\\metrics\\_classification.py:1344: UndefinedMetricWarning: Precision and F-score are ill-defined and being set to 0.0 in labels with no predicted samples. Use `zero_division` parameter to control this behavior.\n",
      "  _warn_prf(average, modifier, msg_start, len(result))\n"
     ]
    }
   ],
   "source": [
    "print(classification_report(test_target_ec, y_lr_pred_ec, target_names=target_names))"
   ]
  },
  {
   "cell_type": "code",
   "execution_count": 47,
   "id": "6cd047aa",
   "metadata": {},
   "outputs": [
    {
     "data": {
      "text/plain": [
       "array([[  0,   0, 100],\n",
       "       [  0,   0, 148],\n",
       "       [  0,   0, 836]], dtype=int64)"
      ]
     },
     "execution_count": 47,
     "metadata": {},
     "output_type": "execute_result"
    }
   ],
   "source": [
    "#Target Variable General Essential Spending\n",
    "\n",
    "logreg_es = LogisticRegression()\n",
    "logreg_es.fit(train_input, train_target_es)\n",
    "y_lr_pred_es = logreg_es.predict(test_input)\n",
    "cnf_matrix_es = metrics.confusion_matrix(test_target_es, y_lr_pred_es)\n",
    "cnf_matrix_es"
   ]
  },
  {
   "cell_type": "code",
   "execution_count": 48,
   "id": "827ed90d",
   "metadata": {},
   "outputs": [
    {
     "name": "stdout",
     "output_type": "stream",
     "text": [
      "                  precision    recall  f1-score   support\n",
      "\n",
      "        Worsened       0.00      0.00      0.00       100\n",
      "remaine the same       0.00      0.00      0.00       148\n",
      "        Improved       0.77      1.00      0.87       836\n",
      "\n",
      "        accuracy                           0.77      1084\n",
      "       macro avg       0.26      0.33      0.29      1084\n",
      "    weighted avg       0.59      0.77      0.67      1084\n",
      "\n"
     ]
    },
    {
     "name": "stderr",
     "output_type": "stream",
     "text": [
      "C:\\Users\\Lenovo\\anaconda3\\lib\\site-packages\\sklearn\\metrics\\_classification.py:1344: UndefinedMetricWarning: Precision and F-score are ill-defined and being set to 0.0 in labels with no predicted samples. Use `zero_division` parameter to control this behavior.\n",
      "  _warn_prf(average, modifier, msg_start, len(result))\n",
      "C:\\Users\\Lenovo\\anaconda3\\lib\\site-packages\\sklearn\\metrics\\_classification.py:1344: UndefinedMetricWarning: Precision and F-score are ill-defined and being set to 0.0 in labels with no predicted samples. Use `zero_division` parameter to control this behavior.\n",
      "  _warn_prf(average, modifier, msg_start, len(result))\n",
      "C:\\Users\\Lenovo\\anaconda3\\lib\\site-packages\\sklearn\\metrics\\_classification.py:1344: UndefinedMetricWarning: Precision and F-score are ill-defined and being set to 0.0 in labels with no predicted samples. Use `zero_division` parameter to control this behavior.\n",
      "  _warn_prf(average, modifier, msg_start, len(result))\n"
     ]
    }
   ],
   "source": [
    "print(classification_report(test_target_es, y_lr_pred_es, target_names=target_names))"
   ]
  },
  {
   "cell_type": "code",
   "execution_count": 49,
   "id": "1a85c1bb",
   "metadata": {},
   "outputs": [
    {
     "data": {
      "text/plain": [
       "array([[730,   0,   5],\n",
       "       [150,   0,   2],\n",
       "       [192,   0,   5]], dtype=int64)"
      ]
     },
     "execution_count": 49,
     "metadata": {},
     "output_type": "execute_result"
    }
   ],
   "source": [
    "#Target Variable General Employment Scenario\n",
    "\n",
    "logreg_ess = LogisticRegression()\n",
    "logreg_ess.fit(train_input, train_target_ess)\n",
    "y_lr_pred_ess = logreg_ess.predict(test_input)\n",
    "cnf_matrix_ess = metrics.confusion_matrix(test_target_ess, y_lr_pred_ess)\n",
    "cnf_matrix_ess"
   ]
  },
  {
   "cell_type": "code",
   "execution_count": 50,
   "id": "a0e8503a",
   "metadata": {},
   "outputs": [
    {
     "name": "stdout",
     "output_type": "stream",
     "text": [
      "                  precision    recall  f1-score   support\n",
      "\n",
      "        Worsened       0.68      0.99      0.81       735\n",
      "remaine the same       0.00      0.00      0.00       152\n",
      "        Improved       0.42      0.03      0.05       197\n",
      "\n",
      "        accuracy                           0.68      1084\n",
      "       macro avg       0.37      0.34      0.29      1084\n",
      "    weighted avg       0.54      0.68      0.56      1084\n",
      "\n"
     ]
    },
    {
     "name": "stderr",
     "output_type": "stream",
     "text": [
      "C:\\Users\\Lenovo\\anaconda3\\lib\\site-packages\\sklearn\\metrics\\_classification.py:1344: UndefinedMetricWarning: Precision and F-score are ill-defined and being set to 0.0 in labels with no predicted samples. Use `zero_division` parameter to control this behavior.\n",
      "  _warn_prf(average, modifier, msg_start, len(result))\n",
      "C:\\Users\\Lenovo\\anaconda3\\lib\\site-packages\\sklearn\\metrics\\_classification.py:1344: UndefinedMetricWarning: Precision and F-score are ill-defined and being set to 0.0 in labels with no predicted samples. Use `zero_division` parameter to control this behavior.\n",
      "  _warn_prf(average, modifier, msg_start, len(result))\n",
      "C:\\Users\\Lenovo\\anaconda3\\lib\\site-packages\\sklearn\\metrics\\_classification.py:1344: UndefinedMetricWarning: Precision and F-score are ill-defined and being set to 0.0 in labels with no predicted samples. Use `zero_division` parameter to control this behavior.\n",
      "  _warn_prf(average, modifier, msg_start, len(result))\n"
     ]
    }
   ],
   "source": [
    "print(classification_report(test_target_ess, y_lr_pred_ess, target_names=target_names))"
   ]
  },
  {
   "cell_type": "code",
   "execution_count": 51,
   "id": "90034f6f",
   "metadata": {},
   "outputs": [
    {
     "data": {
      "text/plain": [
       "array([[386, 141,   0],\n",
       "       [199, 178,   1],\n",
       "       [ 64, 112,   3]], dtype=int64)"
      ]
     },
     "execution_count": 51,
     "metadata": {},
     "output_type": "execute_result"
    }
   ],
   "source": [
    "#Target Variable General Household Income\n",
    "\n",
    "logreg_hi = LogisticRegression()\n",
    "logreg_hi.fit(train_input, train_target_hi)\n",
    "y_lr_pred_hi = logreg_hi.predict(test_input)\n",
    "cnf_matrix_hi = metrics.confusion_matrix(test_target_hi, y_lr_pred_hi)\n",
    "cnf_matrix_hi"
   ]
  },
  {
   "cell_type": "code",
   "execution_count": 52,
   "id": "b71056a7",
   "metadata": {},
   "outputs": [
    {
     "name": "stdout",
     "output_type": "stream",
     "text": [
      "                  precision    recall  f1-score   support\n",
      "\n",
      "        Worsened       0.59      0.73      0.66       527\n",
      "remaine the same       0.41      0.47      0.44       378\n",
      "        Improved       0.75      0.02      0.03       179\n",
      "\n",
      "        accuracy                           0.52      1084\n",
      "       macro avg       0.59      0.41      0.38      1084\n",
      "    weighted avg       0.56      0.52      0.48      1084\n",
      "\n"
     ]
    }
   ],
   "source": [
    "print(classification_report(test_target_hi, y_lr_pred_hi, target_names=target_names))"
   ]
  },
  {
   "cell_type": "code",
   "execution_count": 53,
   "id": "b857850d",
   "metadata": {},
   "outputs": [
    {
     "data": {
      "text/plain": [
       "array([[  0,   0,  41],\n",
       "       [  0,   0, 161],\n",
       "       [  0,   0, 882]], dtype=int64)"
      ]
     },
     "execution_count": 53,
     "metadata": {},
     "output_type": "execute_result"
    }
   ],
   "source": [
    "#Target Variable General Inflation\n",
    "\n",
    "logreg_i = LogisticRegression()\n",
    "logreg_i.fit(train_input, train_target_i)\n",
    "y_lr_pred_i = logreg_i.predict(test_input)\n",
    "cnf_matrix_i = metrics.confusion_matrix(test_target_i, y_lr_pred_i)\n",
    "cnf_matrix_i"
   ]
  },
  {
   "cell_type": "code",
   "execution_count": 54,
   "id": "f07d15a3",
   "metadata": {},
   "outputs": [
    {
     "name": "stdout",
     "output_type": "stream",
     "text": [
      "                  precision    recall  f1-score   support\n",
      "\n",
      "        Worsened       0.00      0.00      0.00        41\n",
      "remaine the same       0.00      0.00      0.00       161\n",
      "        Improved       0.81      1.00      0.90       882\n",
      "\n",
      "        accuracy                           0.81      1084\n",
      "       macro avg       0.27      0.33      0.30      1084\n",
      "    weighted avg       0.66      0.81      0.73      1084\n",
      "\n"
     ]
    },
    {
     "name": "stderr",
     "output_type": "stream",
     "text": [
      "C:\\Users\\Lenovo\\anaconda3\\lib\\site-packages\\sklearn\\metrics\\_classification.py:1344: UndefinedMetricWarning: Precision and F-score are ill-defined and being set to 0.0 in labels with no predicted samples. Use `zero_division` parameter to control this behavior.\n",
      "  _warn_prf(average, modifier, msg_start, len(result))\n",
      "C:\\Users\\Lenovo\\anaconda3\\lib\\site-packages\\sklearn\\metrics\\_classification.py:1344: UndefinedMetricWarning: Precision and F-score are ill-defined and being set to 0.0 in labels with no predicted samples. Use `zero_division` parameter to control this behavior.\n",
      "  _warn_prf(average, modifier, msg_start, len(result))\n",
      "C:\\Users\\Lenovo\\anaconda3\\lib\\site-packages\\sklearn\\metrics\\_classification.py:1344: UndefinedMetricWarning: Precision and F-score are ill-defined and being set to 0.0 in labels with no predicted samples. Use `zero_division` parameter to control this behavior.\n",
      "  _warn_prf(average, modifier, msg_start, len(result))\n"
     ]
    }
   ],
   "source": [
    "print(classification_report(test_target_i, y_lr_pred_i, target_names=target_names))"
   ]
  },
  {
   "cell_type": "markdown",
   "id": "57865c06",
   "metadata": {},
   "source": [
    "## Model Deployment of Deep Learning CNN Architecture"
   ]
  },
  {
   "cell_type": "markdown",
   "id": "cb8d372d",
   "metadata": {},
   "source": [
    "### Saving the proccessed dataset in tensor format"
   ]
  },
  {
   "cell_type": "code",
   "execution_count": 55,
   "id": "4d75fa22",
   "metadata": {},
   "outputs": [],
   "source": [
    "np.savez('data_train', inputs=train_input, targets=train_target)\n",
    "np.savez('data_validation', inputs=validation_input, targets=validation_target)\n",
    "np.savez('data_test', inputs=test_input, targets=test_target)"
   ]
  },
  {
   "cell_type": "code",
   "execution_count": 56,
   "id": "9bb654e8",
   "metadata": {},
   "outputs": [
    {
     "name": "stderr",
     "output_type": "stream",
     "text": [
      "C:\\Users\\Lenovo\\AppData\\Local\\Temp\\ipykernel_19908\\186219171.py:6: DeprecationWarning: `np.float` is a deprecated alias for the builtin `float`. To silence this warning, use `float` by itself. Doing this will not modify any behavior and is safe. If you specifically wanted the numpy scalar type, use `np.float64` here.\n",
      "Deprecated in NumPy 1.20; for more details and guidance: https://numpy.org/devdocs/release/1.20.0-notes.html#deprecations\n",
      "  train_inputs = npz['inputs'].astype(np.float)\n",
      "C:\\Users\\Lenovo\\AppData\\Local\\Temp\\ipykernel_19908\\186219171.py:8: DeprecationWarning: `np.int` is a deprecated alias for the builtin `int`. To silence this warning, use `int` by itself. Doing this will not modify any behavior and is safe. When replacing `np.int`, you may wish to use e.g. `np.int64` or `np.int32` to specify the precision. If you wish to review your current use, check the release note link for additional information.\n",
      "Deprecated in NumPy 1.20; for more details and guidance: https://numpy.org/devdocs/release/1.20.0-notes.html#deprecations\n",
      "  train_targets = npz['targets'].astype(np.int)\n",
      "C:\\Users\\Lenovo\\AppData\\Local\\Temp\\ipykernel_19908\\186219171.py:13: DeprecationWarning: `np.float` is a deprecated alias for the builtin `float`. To silence this warning, use `float` by itself. Doing this will not modify any behavior and is safe. If you specifically wanted the numpy scalar type, use `np.float64` here.\n",
      "Deprecated in NumPy 1.20; for more details and guidance: https://numpy.org/devdocs/release/1.20.0-notes.html#deprecations\n",
      "  validation_inputs, validation_targets = npz['inputs'].astype(np.float), npz['targets'].astype(np.int)\n",
      "C:\\Users\\Lenovo\\AppData\\Local\\Temp\\ipykernel_19908\\186219171.py:13: DeprecationWarning: `np.int` is a deprecated alias for the builtin `int`. To silence this warning, use `int` by itself. Doing this will not modify any behavior and is safe. When replacing `np.int`, you may wish to use e.g. `np.int64` or `np.int32` to specify the precision. If you wish to review your current use, check the release note link for additional information.\n",
      "Deprecated in NumPy 1.20; for more details and guidance: https://numpy.org/devdocs/release/1.20.0-notes.html#deprecations\n",
      "  validation_inputs, validation_targets = npz['inputs'].astype(np.float), npz['targets'].astype(np.int)\n",
      "C:\\Users\\Lenovo\\AppData\\Local\\Temp\\ipykernel_19908\\186219171.py:18: DeprecationWarning: `np.float` is a deprecated alias for the builtin `float`. To silence this warning, use `float` by itself. Doing this will not modify any behavior and is safe. If you specifically wanted the numpy scalar type, use `np.float64` here.\n",
      "Deprecated in NumPy 1.20; for more details and guidance: https://numpy.org/devdocs/release/1.20.0-notes.html#deprecations\n",
      "  test_inputs, test_targets = npz['inputs'].astype(np.float), npz['targets'].astype(np.int)\n",
      "C:\\Users\\Lenovo\\AppData\\Local\\Temp\\ipykernel_19908\\186219171.py:18: DeprecationWarning: `np.int` is a deprecated alias for the builtin `int`. To silence this warning, use `int` by itself. Doing this will not modify any behavior and is safe. When replacing `np.int`, you may wish to use e.g. `np.int64` or `np.int32` to specify the precision. If you wish to review your current use, check the release note link for additional information.\n",
      "Deprecated in NumPy 1.20; for more details and guidance: https://numpy.org/devdocs/release/1.20.0-notes.html#deprecations\n",
      "  test_inputs, test_targets = npz['inputs'].astype(np.float), npz['targets'].astype(np.int)\n"
     ]
    }
   ],
   "source": [
    "# let's create a temporary variable npz, where we will store each of the three Audiobooks datasets\n",
    "npz = np.load('data_train.npz', allow_pickle=True)\n",
    "\n",
    "# we extract the inputs using the keyword under which we saved them\n",
    "# to ensure that they are all floats, let's also take care of that\n",
    "train_inputs = npz['inputs'].astype(np.float)\n",
    "# targets must be int because of sparse_categorical_crossentropy (we want to be able to smoothly one-hot encode them)\n",
    "train_targets = npz['targets'].astype(np.int)\n",
    "\n",
    "# we load the validation data in the temporary variable\n",
    "npz = np.load('data_validation.npz', allow_pickle=True)\n",
    "# we can load the inputs and the targets in the same line\n",
    "validation_inputs, validation_targets = npz['inputs'].astype(np.float), npz['targets'].astype(np.int)\n",
    "\n",
    "# we load the test data in the temporary variable\n",
    "npz = np.load('data_test.npz', allow_pickle=True)\n",
    "# we create 2 variables that will contain the test inputs and the test targets\n",
    "test_inputs, test_targets = npz['inputs'].astype(np.float), npz['targets'].astype(np.int)"
   ]
  },
  {
   "cell_type": "code",
   "execution_count": 57,
   "id": "e3f96806",
   "metadata": {},
   "outputs": [],
   "source": [
    "train_inputs = tf.convert_to_tensor(train_inputs)\n",
    "train_targets = tf.convert_to_tensor(train_targets)\n",
    "validation_inputs = tf.convert_to_tensor(validation_inputs)\n",
    "validation_targets = tf.convert_to_tensor(validation_targets)\n",
    "test_inputs = tf.convert_to_tensor(test_inputs)\n",
    "test_targets = tf.convert_to_tensor(test_targets)"
   ]
  },
  {
   "cell_type": "code",
   "execution_count": 58,
   "id": "22b21972",
   "metadata": {},
   "outputs": [
    {
     "name": "stdout",
     "output_type": "stream",
     "text": [
      "(8661, 7)\n",
      "(8661, 5)\n",
      "(1084, 7)\n",
      "(1084, 5)\n",
      "(1082, 7)\n",
      "(1082, 5)\n"
     ]
    }
   ],
   "source": [
    "print(train_inputs.shape)\n",
    "print(train_targets.shape)\n",
    "print(test_inputs.shape)\n",
    "print(test_targets.shape)\n",
    "print(validation_inputs.shape)\n",
    "print(validation_targets.shape)"
   ]
  },
  {
   "cell_type": "code",
   "execution_count": 59,
   "id": "9832a17a",
   "metadata": {},
   "outputs": [
    {
     "name": "stdout",
     "output_type": "stream",
     "text": [
      "<class 'tensorflow.python.framework.ops.EagerTensor'>\n",
      "<class 'tensorflow.python.framework.ops.EagerTensor'>\n",
      "<class 'tensorflow.python.framework.ops.EagerTensor'>\n",
      "<class 'tensorflow.python.framework.ops.EagerTensor'>\n",
      "<class 'tensorflow.python.framework.ops.EagerTensor'>\n",
      "<class 'tensorflow.python.framework.ops.EagerTensor'>\n"
     ]
    }
   ],
   "source": [
    "print(type(train_inputs))\n",
    "print(type(test_inputs))\n",
    "print(type(validation_inputs))\n",
    "print(type(train_targets))\n",
    "print(type(test_targets))\n",
    "print(type(validation_targets))"
   ]
  },
  {
   "cell_type": "code",
   "execution_count": 60,
   "id": "2652e409",
   "metadata": {},
   "outputs": [],
   "source": [
    "train_target_economic_condition = tf.gather(train_targets, [0], axis=1)\n",
    "train_target_household_income = tf.gather(train_targets, [1], axis=1)\n",
    "train_target_essential_spending = tf.gather(train_targets, [2], axis=1)\n",
    "train_target_employment_scenario = tf.gather(train_targets, [3], axis=1)\n",
    "train_target_perception_inflation = tf.gather(train_targets, [4], axis=1)\n",
    "\n",
    "validation_target_economic_condition = tf.gather(validation_targets, [0], axis=1)\n",
    "validation_target_household_income = tf.gather(validation_targets, [1], axis=1)\n",
    "validation_target_essential_spending = tf.gather(validation_targets, [2], axis=1)\n",
    "validation_target_employment_scenario = tf.gather(validation_targets, [3], axis=1)\n",
    "validation_target_perception_inflation = tf.gather(validation_targets, [4], axis=1)\n",
    "\n",
    "test_target_economic_condition = tf.gather(test_targets, [0], axis=1)\n",
    "test_target_household_income = tf.gather(test_targets, [1], axis=1)\n",
    "test_target_essential_spending = tf.gather(test_targets, [2], axis=1)\n",
    "test_target_employment_scenario = tf.gather(test_targets, [3], axis=1)\n",
    "test_target_perception_inflation = tf.gather(test_targets, [4], axis=1)"
   ]
  },
  {
   "cell_type": "code",
   "execution_count": 61,
   "id": "db14d60e",
   "metadata": {},
   "outputs": [],
   "source": [
    "input_size = 7\n",
    "output_size = 3\n",
    "hidden_layer_size = 50\n",
    "\n",
    "optimization_technique = tf.keras.optimizers.legacy.Adam()\n",
    "loss_function = 'sparse_categorical_crossentropy'\n",
    "\n",
    "batch_size = 500\n",
    "max_epochs = 5"
   ]
  },
  {
   "cell_type": "code",
   "execution_count": 62,
   "id": "0caa96ce",
   "metadata": {},
   "outputs": [
    {
     "name": "stdout",
     "output_type": "stream",
     "text": [
      "Epoch 1/5\n",
      "18/18 - 3s - loss: 0.8624 - accuracy: 0.6679 - val_loss: 0.8009 - val_accuracy: 0.7052 - 3s/epoch - 158ms/step\n",
      "Epoch 2/5\n",
      "18/18 - 0s - loss: 0.7829 - accuracy: 0.6881 - val_loss: 0.7768 - val_accuracy: 0.7052 - 269ms/epoch - 15ms/step\n",
      "Epoch 3/5\n",
      "18/18 - 0s - loss: 0.7668 - accuracy: 0.6923 - val_loss: 0.7769 - val_accuracy: 0.7061 - 261ms/epoch - 15ms/step\n",
      "Epoch 4/5\n",
      "18/18 - 0s - loss: 0.7609 - accuracy: 0.6959 - val_loss: 0.7769 - val_accuracy: 0.7052 - 254ms/epoch - 14ms/step\n",
      "Epoch 5/5\n",
      "18/18 - 0s - loss: 0.7601 - accuracy: 0.6901 - val_loss: 0.7750 - val_accuracy: 0.7089 - 233ms/epoch - 13ms/step\n"
     ]
    },
    {
     "data": {
      "text/plain": [
       "<keras.callbacks.History at 0x133fc3a0670>"
      ]
     },
     "execution_count": 62,
     "metadata": {},
     "output_type": "execute_result"
    }
   ],
   "source": [
    "model_ec = tf.keras.Sequential([\n",
    "    tf.keras.layers.Dense(hidden_layer_size, activation='relu'), # 1st hidden layer\n",
    "    tf.keras.layers.Dense(hidden_layer_size, activation='relu'), # 2nd hidden layer\n",
    "    tf.keras.layers.Dense(output_size, activation='softmax') # output layer\n",
    "])\n",
    "\n",
    "\n",
    "model_ec.compile(optimizer = optimization_technique, loss = loss_function, metrics=['accuracy'])\n",
    "\n",
    "\n",
    "model_ec.fit(train_inputs, # train inputs\n",
    "          train_target_economic_condition, # train targets\n",
    "          batch_size=batch_size, # batch size\n",
    "          epochs=max_epochs, # epochs that we will train for (assuming early stopping doesn't kick in)\n",
    "          validation_data=(validation_inputs, validation_target_economic_condition), # validation data\n",
    "          verbose = 2 # making sure we get enough information about the training process\n",
    "          )  "
   ]
  },
  {
   "cell_type": "code",
   "execution_count": 63,
   "id": "42e6fc62",
   "metadata": {},
   "outputs": [
    {
     "name": "stdout",
     "output_type": "stream",
     "text": [
      "34/34 [==============================] - 0s 6ms/step - loss: 0.7618 - accuracy: 0.7048\n",
      "\n",
      "Test loss: 0.76. Test accuracy: 70.48%\n"
     ]
    }
   ],
   "source": [
    "test_loss, test_accuracy = model_ec.evaluate(test_inputs, test_target_economic_condition)\n",
    "print('\\nTest loss: {0:.2f}. Test accuracy: {1:.2f}%'.format(test_loss, test_accuracy*100.))"
   ]
  },
  {
   "cell_type": "code",
   "execution_count": 64,
   "id": "a93ced8e",
   "metadata": {},
   "outputs": [
    {
     "name": "stdout",
     "output_type": "stream",
     "text": [
      "Epoch 1/5\n",
      "18/18 - 3s - loss: 1.0862 - accuracy: 0.4103 - val_loss: 1.0189 - val_accuracy: 0.4824 - 3s/epoch - 187ms/step\n",
      "Epoch 2/5\n",
      "18/18 - 0s - loss: 0.9861 - accuracy: 0.5166 - val_loss: 0.9768 - val_accuracy: 0.5157 - 334ms/epoch - 19ms/step\n",
      "Epoch 3/5\n",
      "18/18 - 0s - loss: 0.9577 - accuracy: 0.5452 - val_loss: 0.9698 - val_accuracy: 0.5240 - 265ms/epoch - 15ms/step\n",
      "Epoch 4/5\n",
      "18/18 - 0s - loss: 0.9526 - accuracy: 0.5412 - val_loss: 0.9623 - val_accuracy: 0.5305 - 254ms/epoch - 14ms/step\n",
      "Epoch 5/5\n",
      "18/18 - 0s - loss: 0.9499 - accuracy: 0.5457 - val_loss: 0.9579 - val_accuracy: 0.5342 - 260ms/epoch - 14ms/step\n"
     ]
    },
    {
     "data": {
      "text/plain": [
       "<keras.callbacks.History at 0x133fd8967a0>"
      ]
     },
     "execution_count": 64,
     "metadata": {},
     "output_type": "execute_result"
    }
   ],
   "source": [
    "model_hi = tf.keras.Sequential([\n",
    "    tf.keras.layers.Dense(hidden_layer_size, activation='relu'), # 1st hidden layer\n",
    "    tf.keras.layers.Dense(hidden_layer_size, activation='relu'), # 2nd hidden layer\n",
    "    tf.keras.layers.Dense(output_size, activation='softmax') # output layer\n",
    "])\n",
    "\n",
    "\n",
    "model_hi.compile(optimizer = optimization_technique, loss = loss_function, metrics=['accuracy'])\n",
    "\n",
    "\n",
    "model_hi.fit(train_inputs, # train inputs\n",
    "          train_target_household_income, # train targets\n",
    "          batch_size=batch_size, # batch size\n",
    "          epochs=max_epochs, # epochs that we will train for (assuming early stopping doesn't kick in)\n",
    "          validation_data=(validation_inputs, validation_target_household_income), # validation data\n",
    "          verbose = 2 # making sure we get enough information about the training process\n",
    "          )  "
   ]
  },
  {
   "cell_type": "code",
   "execution_count": 65,
   "id": "182128dd",
   "metadata": {},
   "outputs": [
    {
     "name": "stdout",
     "output_type": "stream",
     "text": [
      "34/34 [==============================] - 0s 6ms/step - loss: 0.9374 - accuracy: 0.5277\n",
      "\n",
      "Test loss: 0.94. Test accuracy: 52.77%\n"
     ]
    }
   ],
   "source": [
    "test_loss, test_accuracy = model_hi.evaluate(test_inputs, test_target_household_income)\n",
    "print('\\nTest loss: {0:.2f}. Test accuracy: {1:.2f}%'.format(test_loss, test_accuracy*100.))"
   ]
  },
  {
   "cell_type": "code",
   "execution_count": 66,
   "id": "10e5a930",
   "metadata": {},
   "outputs": [
    {
     "name": "stdout",
     "output_type": "stream",
     "text": [
      "Epoch 1/5\n",
      "18/18 - 2s - loss: 0.9187 - accuracy: 0.6679 - val_loss: 0.7996 - val_accuracy: 0.7588 - 2s/epoch - 130ms/step\n",
      "Epoch 2/5\n",
      "18/18 - 0s - loss: 0.7181 - accuracy: 0.7755 - val_loss: 0.7294 - val_accuracy: 0.7588 - 247ms/epoch - 14ms/step\n",
      "Epoch 3/5\n",
      "18/18 - 0s - loss: 0.6898 - accuracy: 0.7755 - val_loss: 0.7108 - val_accuracy: 0.7588 - 229ms/epoch - 13ms/step\n",
      "Epoch 4/5\n",
      "18/18 - 0s - loss: 0.6796 - accuracy: 0.7755 - val_loss: 0.7029 - val_accuracy: 0.7588 - 235ms/epoch - 13ms/step\n",
      "Epoch 5/5\n",
      "18/18 - 0s - loss: 0.6734 - accuracy: 0.7755 - val_loss: 0.6957 - val_accuracy: 0.7588 - 232ms/epoch - 13ms/step\n"
     ]
    },
    {
     "data": {
      "text/plain": [
       "<keras.callbacks.History at 0x133fea9d210>"
      ]
     },
     "execution_count": 66,
     "metadata": {},
     "output_type": "execute_result"
    }
   ],
   "source": [
    "model_es = tf.keras.Sequential([\n",
    "    tf.keras.layers.Dense(hidden_layer_size, activation='relu'), # 1st hidden layer\n",
    "    tf.keras.layers.Dense(hidden_layer_size, activation='relu'), # 2nd hidden layer\n",
    "    tf.keras.layers.Dense(output_size, activation='softmax') # output layer\n",
    "])\n",
    "\n",
    "\n",
    "model_es.compile(optimizer = optimization_technique, loss = loss_function, metrics=['accuracy'])\n",
    "\n",
    "\n",
    "model_es.fit(train_inputs, # train inputs\n",
    "          train_target_essential_spending, # train targets\n",
    "          batch_size=batch_size, # batch size\n",
    "          epochs=max_epochs, # epochs that we will train for (assuming early stopping doesn't kick in)\n",
    "          validation_data=(validation_inputs, validation_target_essential_spending), # validation data\n",
    "          verbose = 2 # making sure we get enough information about the training process\n",
    "          )  "
   ]
  },
  {
   "cell_type": "code",
   "execution_count": 67,
   "id": "cc322a70",
   "metadata": {},
   "outputs": [
    {
     "name": "stdout",
     "output_type": "stream",
     "text": [
      "34/34 [==============================] - 0s 6ms/step - loss: 0.6747 - accuracy: 0.7712\n",
      "\n",
      "Test loss: 0.67. Test accuracy: 77.12%\n"
     ]
    }
   ],
   "source": [
    "test_loss, test_accuracy = model_es.evaluate(test_inputs, test_target_essential_spending)\n",
    "print('\\nTest loss: {0:.2f}. Test accuracy: {1:.2f}%'.format(test_loss, test_accuracy*100.))"
   ]
  },
  {
   "cell_type": "code",
   "execution_count": 68,
   "id": "75830047",
   "metadata": {},
   "outputs": [
    {
     "name": "stdout",
     "output_type": "stream",
     "text": [
      "Epoch 1/5\n",
      "18/18 - 2s - loss: 0.9380 - accuracy: 0.6058 - val_loss: 0.8262 - val_accuracy: 0.6867 - 2s/epoch - 121ms/step\n",
      "Epoch 2/5\n",
      "18/18 - 0s - loss: 0.7949 - accuracy: 0.6881 - val_loss: 0.8041 - val_accuracy: 0.6811 - 255ms/epoch - 14ms/step\n",
      "Epoch 3/5\n",
      "18/18 - 0s - loss: 0.7790 - accuracy: 0.6886 - val_loss: 0.7996 - val_accuracy: 0.6802 - 237ms/epoch - 13ms/step\n",
      "Epoch 4/5\n",
      "18/18 - 0s - loss: 0.7780 - accuracy: 0.6856 - val_loss: 0.8000 - val_accuracy: 0.6858 - 253ms/epoch - 14ms/step\n",
      "Epoch 5/5\n",
      "18/18 - 0s - loss: 0.7755 - accuracy: 0.6866 - val_loss: 0.7968 - val_accuracy: 0.6784 - 241ms/epoch - 13ms/step\n"
     ]
    },
    {
     "data": {
      "text/plain": [
       "<keras.callbacks.History at 0x133ffdb9390>"
      ]
     },
     "execution_count": 68,
     "metadata": {},
     "output_type": "execute_result"
    }
   ],
   "source": [
    "model_ess = tf.keras.Sequential([\n",
    "    tf.keras.layers.Dense(hidden_layer_size, activation='relu'), # 1st hidden layer\n",
    "    tf.keras.layers.Dense(hidden_layer_size, activation='relu'), # 2nd hidden layer\n",
    "    tf.keras.layers.Dense(output_size, activation='softmax') # output layer\n",
    "])\n",
    "\n",
    "\n",
    "model_ess.compile(optimizer = optimization_technique, loss = loss_function, metrics=['accuracy'])\n",
    "\n",
    "\n",
    "model_ess.fit(train_inputs, # train inputs\n",
    "          train_target_employment_scenario, # train targets\n",
    "          batch_size=batch_size, # batch size\n",
    "          epochs=max_epochs, # epochs that we will train for (assuming early stopping doesn't kick in)\n",
    "          validation_data=(validation_inputs, validation_target_employment_scenario), # validation data\n",
    "          verbose = 2 # making sure we get enough information about the training process\n",
    "          )  "
   ]
  },
  {
   "cell_type": "code",
   "execution_count": 69,
   "id": "af937275",
   "metadata": {},
   "outputs": [
    {
     "name": "stdout",
     "output_type": "stream",
     "text": [
      "34/34 [==============================] - 0s 6ms/step - loss: 0.8025 - accuracy: 0.6790\n",
      "\n",
      "Test loss: 0.80. Test accuracy: 67.90%\n"
     ]
    }
   ],
   "source": [
    "test_loss, test_accuracy = model_ess.evaluate(test_inputs, test_target_employment_scenario)\n",
    "print('\\nTest loss: {0:.2f}. Test accuracy: {1:.2f}%'.format(test_loss, test_accuracy*100.))"
   ]
  },
  {
   "cell_type": "code",
   "execution_count": 70,
   "id": "2d3145e4",
   "metadata": {},
   "outputs": [
    {
     "name": "stdout",
     "output_type": "stream",
     "text": [
      "Epoch 1/5\n",
      "18/18 - 3s - loss: 0.7022 - accuracy: 0.7749 - val_loss: 0.6154 - val_accuracy: 0.8087 - 3s/epoch - 140ms/step\n",
      "Epoch 2/5\n",
      "18/18 - 0s - loss: 0.6059 - accuracy: 0.8085 - val_loss: 0.5922 - val_accuracy: 0.8087 - 258ms/epoch - 14ms/step\n",
      "Epoch 3/5\n",
      "18/18 - 0s - loss: 0.5933 - accuracy: 0.8085 - val_loss: 0.5891 - val_accuracy: 0.8087 - 232ms/epoch - 13ms/step\n",
      "Epoch 4/5\n",
      "18/18 - 0s - loss: 0.5884 - accuracy: 0.8085 - val_loss: 0.5851 - val_accuracy: 0.8087 - 244ms/epoch - 14ms/step\n",
      "Epoch 5/5\n",
      "18/18 - 0s - loss: 0.5852 - accuracy: 0.8085 - val_loss: 0.5857 - val_accuracy: 0.8087 - 245ms/epoch - 14ms/step\n"
     ]
    },
    {
     "data": {
      "text/plain": [
       "<keras.callbacks.History at 0x1338110d060>"
      ]
     },
     "execution_count": 70,
     "metadata": {},
     "output_type": "execute_result"
    }
   ],
   "source": [
    "model_i = tf.keras.Sequential([\n",
    "    tf.keras.layers.Dense(hidden_layer_size, activation='relu'), # 1st hidden layer\n",
    "    tf.keras.layers.Dense(hidden_layer_size, activation='relu'), # 2nd hidden layer\n",
    "    tf.keras.layers.Dense(output_size, activation='softmax') # output layer\n",
    "])\n",
    "\n",
    "\n",
    "model_i.compile(optimizer = optimization_technique, loss = loss_function, metrics=['accuracy'])\n",
    "\n",
    "\n",
    "model_i.fit(train_inputs, # train inputs\n",
    "          train_target_perception_inflation, # train targets\n",
    "          batch_size=batch_size, # batch size\n",
    "          epochs=max_epochs, # epochs that we will train for (assuming early stopping doesn't kick in)\n",
    "          validation_data=(validation_inputs, validation_target_perception_inflation), # validation data\n",
    "          verbose = 2 # making sure we get enough information about the training process\n",
    "          )  "
   ]
  },
  {
   "cell_type": "code",
   "execution_count": 71,
   "id": "248a3745",
   "metadata": {},
   "outputs": [
    {
     "name": "stdout",
     "output_type": "stream",
     "text": [
      "34/34 [==============================] - 0s 6ms/step - loss: 0.5697 - accuracy: 0.8137\n",
      "\n",
      "Test loss: 0.57. Test accuracy: 81.37%\n"
     ]
    }
   ],
   "source": [
    "test_loss, test_accuracy = model_i.evaluate(test_inputs, test_target_perception_inflation)\n",
    "print('\\nTest loss: {0:.2f}. Test accuracy: {1:.2f}%'.format(test_loss, test_accuracy*100.))"
   ]
  },
  {
   "cell_type": "code",
   "execution_count": null,
   "id": "b346ae8d",
   "metadata": {},
   "outputs": [],
   "source": []
  },
  {
   "cell_type": "markdown",
   "id": "b6cbe60b",
   "metadata": {},
   "source": [
    "## Exporting The Proccesed Data"
   ]
  },
  {
   "cell_type": "code",
   "execution_count": 72,
   "id": "04b727d1",
   "metadata": {},
   "outputs": [
    {
     "name": "stderr",
     "output_type": "stream",
     "text": [
      "C:\\Users\\Lenovo\\AppData\\Local\\Temp\\ipykernel_19908\\622915078.py:8: FutureWarning: save is not part of the public API, usage can give unexpected results and will be removed in a future version\n",
      "  datatoexcel.save()\n"
     ]
    },
    {
     "name": "stdout",
     "output_type": "stream",
     "text": [
      "DataFrame is written to Excel File successfully.\n"
     ]
    }
   ],
   "source": [
    "# writing to Excel\n",
    "datatoexcel = pd.ExcelWriter('Processed Data.xlsx')\n",
    "  \n",
    "# write DataFrame to excel\n",
    "df_copy.to_excel(datatoexcel)\n",
    "  \n",
    "# save the excel\n",
    "datatoexcel.save()\n",
    "print('DataFrame is written to Excel File successfully.')"
   ]
  },
  {
   "cell_type": "code",
   "execution_count": 73,
   "id": "540570cb",
   "metadata": {},
   "outputs": [
    {
     "name": "stderr",
     "output_type": "stream",
     "text": [
      "C:\\Users\\Lenovo\\AppData\\Local\\Temp\\ipykernel_19908\\3018722420.py:8: FutureWarning: save is not part of the public API, usage can give unexpected results and will be removed in a future version\n",
      "  datatoexcel.save()\n"
     ]
    },
    {
     "name": "stdout",
     "output_type": "stream",
     "text": [
      "DataFrame is written to Excel File successfully.\n"
     ]
    }
   ],
   "source": [
    "# writing to Excel\n",
    "datatoexcel = pd.ExcelWriter('Input Data.xlsx')\n",
    "  \n",
    "# write DataFrame to excel\n",
    "input_data.to_excel(datatoexcel)\n",
    "  \n",
    "# save the excel\n",
    "datatoexcel.save()\n",
    "print('DataFrame is written to Excel File successfully.')"
   ]
  },
  {
   "cell_type": "code",
   "execution_count": 74,
   "id": "ac236471",
   "metadata": {},
   "outputs": [
    {
     "name": "stderr",
     "output_type": "stream",
     "text": [
      "C:\\Users\\Lenovo\\AppData\\Local\\Temp\\ipykernel_19908\\1364816728.py:8: FutureWarning: save is not part of the public API, usage can give unexpected results and will be removed in a future version\n",
      "  datatoexcel.save()\n"
     ]
    },
    {
     "name": "stdout",
     "output_type": "stream",
     "text": [
      "DataFrame is written to Excel File successfully.\n"
     ]
    }
   ],
   "source": [
    "# writing to Excel\n",
    "datatoexcel = pd.ExcelWriter('Target Data.xlsx')\n",
    "  \n",
    "# write DataFrame to excel\n",
    "target.to_excel(datatoexcel)\n",
    "  \n",
    "# save the excel\n",
    "datatoexcel.save()\n",
    "print('DataFrame is written to Excel File successfully.')"
   ]
  },
  {
   "cell_type": "code",
   "execution_count": null,
   "id": "e38c7685",
   "metadata": {},
   "outputs": [],
   "source": []
  }
 ],
 "metadata": {
  "kernelspec": {
   "display_name": "Python 3 (ipykernel)",
   "language": "python",
   "name": "python3"
  },
  "language_info": {
   "codemirror_mode": {
    "name": "ipython",
    "version": 3
   },
   "file_extension": ".py",
   "mimetype": "text/x-python",
   "name": "python",
   "nbconvert_exporter": "python",
   "pygments_lexer": "ipython3",
   "version": "3.10.9"
  }
 },
 "nbformat": 4,
 "nbformat_minor": 5
}
